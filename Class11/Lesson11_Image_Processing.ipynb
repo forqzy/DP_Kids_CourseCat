{
 "cells": [
  {
   "cell_type": "markdown",
   "metadata": {},
   "source": [
    "# Get the image size\n",
    "\n",
    "\n",
    "<font color=\"blue\"> You can using the following code to get all the images in your folder </font>\n",
    "<pre><code>\n",
    "from PIL import Image\n",
    "import os, os.path\n",
    "\n",
    "imgs = []\n",
    "path = \"/home/tony/pictures\"    #cosinder ./images/hellokitty  ./images/none hello kitty\n",
    "valid_images = [\".jpg\",\".jpeg\",\".png\"]\n",
    "for f in os.listdir(path):\n",
    "    ext = os.path.splitext(f)[1]\n",
    "    if ext.lower() not in valid_images:\n",
    "        continue\n",
    "    imgs.append(Image.open(os.path.join(path,f))\n",
    "</code>\n",
    "</pre>\n",
    "\n",
    "\n",
    "\n",
    "\n",
    "\n",
    "\n",
    "\n",
    "\n",
    "<font color=\"blue\"> You can using the following code to get the image size  </font>\n",
    "<pre><code>\n",
    "from PIL import Image \n",
    "im = Image.open(image_filename) \n",
    "width, height = im.size\n",
    "</code>\n",
    "</pre>\n",
    "\n",
    "\n",
    "<font color=\"blue\"> Save to csv file </font>\n",
    "<pre><code>\n",
    "    import csv\n",
    "    with open('eggs.csv', 'wb') as csvfile:\n",
    "        spamwriter = csv.writer(csvfile, delimiter=' ',quotechar='|', quoting=csv.QUOTE_MINIMAL)\n",
    "                                \n",
    "        \n",
    "        spamwriter.writerow(['Spam', 'Lovely Spam', 'Wonderful Spam'])\n",
    "</code>\n",
    "</pre>"
   ]
  },
  {
   "cell_type": "code",
   "execution_count": null,
   "metadata": {
    "collapsed": true
   },
   "outputs": [],
   "source": [
    "from PIL import Image\n",
    "import os, os.path\n",
    "import csv\n",
    "from matplotlib.pyplot import imshow\n",
    "import numpy as np\n",
    "import h5py"
   ]
  },
  {
   "cell_type": "code",
   "execution_count": null,
   "metadata": {},
   "outputs": [],
   "source": [
    "def stat_images(path):\n",
    "\n",
    "    with open('eggs.csv', 'w',newline='') as csvfile:\n",
    "        fieldnames = ['with', 'height','ratio']\n",
    "        writer = csv.DictWriter(csvfile, fieldnames=fieldnames)            \n",
    "        writer.writeheader()\n",
    "    \n",
    "        #imgs = []\n",
    "        #path = \"/home/tony/pictures\"    #cosinder ./images/hellokitty  ./images/none hello kitty\n",
    "        valid_images = [\".jpg\",\".jpeg\",\".png\"]\n",
    "        for f in os.listdir(path):\n",
    "            ext = os.path.splitext(f)[1]\n",
    "            if ext.lower() not in valid_images:\n",
    "                continue\n",
    "\n",
    "            #imgs.append(Image.open(os.path.join(path,f))\n",
    "            im = Image.open(os.path.join(path,f)) \n",
    "            width, height = im.size\n",
    "            print(width,\",\",height)\n",
    "            \n",
    "            ratio = float(width)/float(height)\n",
    "            if width<height :\n",
    "                ratio = float(height)/float(width)\n",
    "                \n",
    "            \n",
    "            writer.writerow({'with': str(width), 'height': str(height),'ratio':str(ratio)})\n",
    "    \n",
    "stat_images('./images/hellokitty/')    "
   ]
  },
  {
   "cell_type": "markdown",
   "metadata": {},
   "source": [
    "# crop image\n",
    "\n",
    "\n",
    " box means start point and end point \n",
    " <img src=\"test.jpg\" style=\"height:250px\">\n",
    " <pre><code>\n",
    " >>> box = (100, 100, 200, 200)\n",
    " >>> region = im.crop(box)\n",
    " >>> region.show()\n",
    " >>> region = region.transpose(Image.ROTATE_180)\n",
    " >>> region.show()\n",
    " >>> im.paste(region, box)\n",
    " >>> im.show()\n",
    " </code>\n",
    " </pre>"
   ]
  },
  {
   "cell_type": "code",
   "execution_count": null,
   "metadata": {},
   "outputs": [],
   "source": [
    "%matplotlib inline\n",
    "\n",
    "im = Image.open(\"test.jpg\") \n",
    "width, height = im.size\n",
    "\n",
    "#im.show()\n",
    "imshow(np.asarray(im))"
   ]
  },
  {
   "cell_type": "code",
   "execution_count": null,
   "metadata": {},
   "outputs": [],
   "source": [
    "box = (0,0,width,width)\n",
    "region = im.crop(box)\n",
    "imshow(np.asarray(region))"
   ]
  },
  {
   "cell_type": "markdown",
   "metadata": {},
   "source": [
    "# resize image\n",
    "\n",
    "im.resize((128, 128))  "
   ]
  },
  {
   "cell_type": "code",
   "execution_count": null,
   "metadata": {},
   "outputs": [],
   "source": [
    "small = region.resize((256,256))\n",
    "imshow(np.asarray(small))"
   ]
  },
  {
   "cell_type": "code",
   "execution_count": null,
   "metadata": {},
   "outputs": [],
   "source": [
    "# save resized image to harddisk\n",
    "output = \"small_\"+str(1)+\".jpg\"\n",
    "small.save(output)\n",
    "\n",
    "\n",
    "imshow(np.asarray(Image.open(output)))\n"
   ]
  },
  {
   "cell_type": "markdown",
   "metadata": {},
   "source": [
    "# Homework\n",
    "\n",
    "Wirte a function to process your images.\n",
    "\n",
    ">> open folder\n",
    ">> crop \n",
    ">> resize\n",
    ">> save to output folder"
   ]
  },
  {
   "cell_type": "code",
   "execution_count": null,
   "metadata": {},
   "outputs": [],
   "source": [
    "# This is a homework need to implement yourself, it will take at least 4-5 hours if you are beginner \n",
    "# And please using the small dir to test before process large directory\n",
    "\n",
    "\n",
    "def process_image(inputDir, outputDir):\n",
    "    \n",
    "    seq = 0\n",
    "    \n",
    "    valid_images = [\".jpg\",\".jpeg\",\".png\"]\n",
    "    for f in os.listdir(inputDir):\n",
    "        # find all the files with .jpg,.png,.jpeg......\n",
    "               \n",
    "                \n",
    "                \n",
    "        # open files......\n",
    "            \n",
    "              \n",
    "                \n",
    "        # crop \n",
    "        im = Image.open(os.path.join(inputDir,f)) \n",
    "        if(width>height):\n",
    "            small = im.crop(xx,xx,xx,xx)\n",
    "            \n",
    "            \n",
    "        elif(width<height):\n",
    "            small = im.crop(xx,yy,yy,yy) \n",
    "            \n",
    "            \n",
    "        # resize\n",
    "        \n",
    "        \n",
    "        \n",
    "        # save to outputDir\n",
    "        \n",
    "        output = \"small_\"+str()+\".jpg\"\n",
    "        small.save(os.path.join(outputDir,output))\n",
    "              \n",
    "\n",
    "\n",
    "process_image(\"./images/hellokitty\",\"./images/small/hellokitty\")\n"
   ]
  },
  {
   "cell_type": "markdown",
   "metadata": {},
   "source": [
    "# Additional \n",
    "\n",
    "using h5py to store your file"
   ]
  },
  {
   "cell_type": "code",
   "execution_count": null,
   "metadata": {},
   "outputs": [],
   "source": [
    "import h5py\n",
    "\n",
    "hf = h5py.File('datatest.h5', 'w')\n",
    "\n",
    "hellokittys = np.empty((100,256,256,3))\n",
    "\n",
    "im = Image.open(\"small_1.jpg\") \n",
    "\n",
    "\n",
    "print(np.asarray(im).shape)\n",
    "\n",
    "\n",
    "for i in range(0,1000):\n",
    "    hellokittys[i] =np.asarray(im)\n",
    "\n",
    "#hellokittys = np.append(hellokittys,np.asarray(im),axis=0)\n",
    "\n",
    "print(hellokittys.shape)\n",
    "print(hellokittys)\n",
    "print(np.asarray(im))\n",
    "\n",
    "\n",
    "hf.create_dataset('dataset_1', data=hellokittys,compression=\"gzip\", compression_opts=9)\n",
    "hf.close()\n"
   ]
  },
  {
   "cell_type": "code",
   "execution_count": null,
   "metadata": {},
   "outputs": [],
   "source": [
    "hf = h5py.File('datatest.h5', 'r')\n",
    "n1 = hf.get('dataset_1')\n",
    "n1 = np.array(n1)\n",
    "print(n1.shape)\n",
    "\n",
    "hf.close()"
   ]
  },
  {
   "cell_type": "code",
   "execution_count": null,
   "metadata": {
    "collapsed": true
   },
   "outputs": [],
   "source": []
  }
 ],
 "metadata": {
  "kernelspec": {
   "display_name": "Python 3",
   "language": "python",
   "name": "python3"
  },
  "language_info": {
   "codemirror_mode": {
    "name": "ipython",
    "version": 3
   },
   "file_extension": ".py",
   "mimetype": "text/x-python",
   "name": "python",
   "nbconvert_exporter": "python",
   "pygments_lexer": "ipython3",
   "version": "3.5.4"
  }
 },
 "nbformat": 4,
 "nbformat_minor": 2
}
