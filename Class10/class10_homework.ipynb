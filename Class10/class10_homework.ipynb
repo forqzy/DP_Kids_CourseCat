{
 "cells": [
  {
   "cell_type": "code",
   "execution_count": 5,
   "metadata": {
    "collapsed": true
   },
   "outputs": [],
   "source": [
    "import requests\n",
    "from bs4 import BeautifulSoup\n",
    "from os.path import basename, splitext\n"
   ]
  },
  {
   "cell_type": "code",
   "execution_count": 6,
   "metadata": {
    "collapsed": true
   },
   "outputs": [],
   "source": [
    "proxies = {\n",
    "  \"https\": \"http://127.0.0.1:1080\",\n",
    "}\n",
    "\n",
    "#Note please remove the proxy, as you can connect Google directly\n",
    "r = requests.get('https://www.google.com.hk/search?safe=on&q=hello+kitty&spell=3&sa=X', proxies=proxies)"
   ]
  },
  {
   "cell_type": "code",
   "execution_count": 7,
   "metadata": {},
   "outputs": [
    {
     "name": "stdout",
     "output_type": "stream",
     "text": [
      "<!doctype html><html itemscope=\"\" itemtype=\"http://schema.org/SearchResultsPage\" lang=\"en-GB\"><head><meta content=\"text/html; charset=UTF-8\" http-equiv=\"Content-Type\"><meta content=\"/images/branding/googleg/1x/googleg_standard_color_128dp.png\" itemprop=\"image\"><link href=\"/images/branding/product/ico/googleg_lodp.ico\" rel=\"shortcut icon\"><title>hello kitty - Google Search</title><style>#gbar,#guser{font-size:13px;padding-top:1px !important;}#gbar{height:22px}#guser{padding-bottom:7px !important;text-align:right}.gbh,.gbd{border-top:1px solid #c9d7f1;font-size:1px}.gbh{height:0;position:absolute;top:24px;width:100%}@media all{.gb1{height:22px;margin-right:.5em;vertical-align:top}#gbar{float:left}}a.gb1,a.gb4{text-decoration:underline !important}a.gb1,a.gb4{color:#00c !important}.gbi .gb4{color:#dd8e27 !important}.gbf .gb4{color:#900 !important} </style><style>.star{float:left;margin-top:1px;overflow:hidden}.ybhkme{font-size:11px}.j{width:34em}body,td,div,.p,a{font-family:arial,sans-serif;tap-highlight-color:rgba(255,255,255,0)}body{margin:0}a img{border:0}#gbar{float:left;height:22px;padding-left:2px;font-size:13px}.gsfi,.gsfs{font-size:17px}.w,.q:active,.q:visited,.tbotu{color:#11c}a.gl{text-decoration:none}#foot{padding:0 8px}#foot a{white-space:nowrap}h3{font-size:16px;font-weight:normal;margin:0;padding:0}#res h3{display:inline}.hd{height:1px;position:absolute;top:-1000em}.g,body,html,table,.std{font-size:13px}.g{margin-bottom:23px;margin-top:0;zoom:1}ol li,ul li{list-style:none}h1,ol,ul,li{margin:0;padding:0}.e{margin:2px 0 0.75em}#leftnav a{text-decoration:none}#leftnav h2{color:#767676;font-weight:normal;margin:0}#nav{border-collapse:collapse;margin-top:17px;text-align:left}#nav td{text-align:center}.nobr{white-space:nowrap}.ts{border-collapse:collapse}.s br{display:none}.csb{display:block;height:40px}.images_table td{line-height:17px;padding-bottom:16px}.images_table img{border:1px solid #ccc;padding:1px}#tbd,#abd{display:block;min-height:1px}#abd{padding-top:3px}#tbd li{display:inline}.TIrJXe,.UU5df{margin-bottom:8px}#tbd .tbt li{display:block;font-size:13px;line-height:1.2;padding-bottom:3px;padding-left:8px;text-indent:-8px}.tbos,.b{font-weight:bold}em{font-weight:bold;font-style:normal}.mime{color:#1a0dab;font-weight:bold;font-size:x-small}.soc a{text-decoration:none}.soc{color:#808080}.ul7Gbc{color:#e7711b}#Db7kif{border:1px solid #e0e0e0;margin-left:-8px;margin-right:-8px;padding:15px 20px 5px}.mrH1y{font-size:32px}.PZ6wOb{color:#777;font-size:16px;margin-top:5px}.gwrItc{color:#777;font-size:14px;margin-top:5px}.SVob4e{border:1px solid #e0e0e0;padding-left:20px}.mYu5Hb{border:1px solid #e0e0e0;padding:5px 20px}#vob{border:1px solid #e0e0e0;padding:15px 15px}#ZjIC2e{font-size:22px;line-height:22px;padding-bottom:5px}#vob_st{line-height:1.24}.DfLGHd{border-width:1px;border-style:solid;border-color:#eee;background-color:#fff;position:relative;margin-bottom:26px}.uRIxYb,.NjTIc,.DXoZmb{font-family:Arial;font-weight:lighter}.uRIxYb{margin-bottom:5px}.uRIxYb{font-size:xx-large}.NjTIc{font-size:medium}.DXoZmb{font-size:small}.DfLGHd{margin-left:-8px;margin-right:-15px;padding:20px 20px 24px}.ernfsc{border-spacing:0px 2px}.D3VFNd{max-width:380px;text-overflow:ellipsis;white-space:nowrap;overflow:hidden;padding-left:0px}.c1Ujmc{padding-left:15px;white-space:nowrap;color:#666}.EjZtie{padding-left:0px}.SFt5jb{color:#212121}.Pt7r9e{color:#878787}.bkcGhd{color:#093}.fIP9ce{color:#c00}.LDBB9d{padding:1px}.vT9M9c{color:#dd4b39}.gssb_a{padding:0 10px !important}.gssb_c{left:132px !important;right:295px !important;top:78px !important;width:572px !important}.gssb_c table{font-size:16px !important}.gssb_e{border:1px solid #ccc !important;border-top-color:#d9d9d9 !important}.gssb_i{background:#eee !important}#res{padding:0 8px}#rhs_block{padding-top:43px}#MCN7mf{padding:0 8px}#subform_ctrl{font-size:11px;height:17px;margin:5px 3px 0 17px}.taf{padding-bottom:3px}.WIkLp{padding:20px 0 3px}.FuZzl{padding:20px 0 3px}#topstuff .e{padding-bottom:6px}.slk .sld{width:250px}.slk{margin-bottom:-3px}.slk .zaHRAf{padding-bottom:5px;width:250px}.ac,.st{line-height:1.24}.mfr,#ofr{font-size:16px;margin:1em 0;padding:0 8px}.tZz6cc{padding-bottom:25px}.s{color:#545454}.ac{color:#545454}a.fl,.A8ul6 a,.osl a{color:#1a0dab;text-decoration:none}a:link{color:#1a0dab;cursor:pointer}#tads a:link{color:#1a0dab}#tads .soc a:link{color:#808080}a:visited{color:#61C}.blg a{text-decoration:none}cite,cite a:link{color:#006621;font-style:normal}#tads cite{color:#006621}.hJND5c{font-size:15px}.kvs{margin-top:1px}.hJND5c,.kvs,.slp{display:block;margin-bottom:1px}.kt{border-spacing:2px 0;margin-top:1px}.f{color:#808080}.L4Zeue{color:#093}h4.r{display:inline;font-size:small;font-weight:normal}.g{line-height:1.2}.NpC9Hd{display:inline-block;vertical-align:top;overflow:hidden;position:relative}.COi8F{margin:0 0 2em 1.3em}.COi8F li{list-style-type:disc}.osl{color:#777;margin-top:4px}.r{font-size:16px;margin:0}.spell{font-size:16px}.spell_orig{font-size:13px}.spell_orig a{text-decoration:none}.spell_orig b i{font-style:normal;font-weight:normal}.th{border:1px solid #ebebeb}.ts td{padding:0}.videobox{padding-bottom:3px}.slk a{text-decoration:none}#leftnav a:hover,#leftnav .tbou a:hover,.slk h3 a,a:hover{text-decoration:underline}#mn{table-layout:fixed;width:100%}#leftnav a{color:#222;font-size:13px}#leftnav{padding:43px 4px 4px 0}.tbos{color:#dd4b39}.tbt{margin-bottom:28px}#tbd{padding:0 0 0 16px}.tbou a{color:#222}#center_col{border:0;padding:0 8px 0 0}#topstuff .e{padding-top:3px}#topstuff .sp_cnt{padding-top:6px}#ab_name{color:#dd4b39;font:20px \"Arial\";margin-left:15px}#resultStats{color:#999;font-size:13px;overflow:hidden;white-space:nowrap}.mslg>td{padding-right:1px;padding-top:2px}.slk .sld{margin-top:2px;padding:5px 0 5px 5px}.fmp{padding-top:3px}.close_btn{overflow:hidden}#fll a,#bfl a{color:#1a0dab !important;margin:0 12px;text-decoration:none !important}.ng{color:#dd4b39}#mss{margin:.33em 0 0;padding:0;display:table}.NYKCib{display:inline-block;float:left;white-space:nowrap;padding-right:16px}#mss p{margin:0;padding-top:5px}.tn{border-bottom:1px solid #ebebeb;display:block;float:left;height:59px;line-height:54px;min-width:980px;padding:0;position:relative;white-space:nowrap}.qrSWbe,a.qrSWbe{color:#777;cursor:pointer;display:inline-block;font-family:arial,sans-serif;font-size:small;height:54px;line-height:54px;margin:0 8px;padding:0 8px;text-decoration:none;white-space:nowrap}.tnuiC{border-bottom:3px solid #dd4b39;color:#dd4b39;font-weight:bold;margin:2px 8px 0}a.KDZjCd:hover{color:black;text-decoration:none;white-space:nowrap}body{margin:0;padding:0}.sFTC8c{display:inline-block;float:left;margin-top:2px}.pqkqJe,a.pqkqJe{margin-left:1px}.sd{line-height:43px;padding:0 8px 0 9px}a:active,.osl a:active,.tbou a:active,#leftnav a:active{color:#dd4b39}#bfl a:active{color:#dd4b39 !important}.csb{background:url(/images/nav_logo229.png) no-repeat;overflow:hidden}.close_btn{background:url(/images/nav_logo229.png) no-repeat -138px -84px;height:14px;width:14px;display:block}.star{background:url(/images/nav_logo229.png) no-repeat -94px -245px;height:13px;width:65px;display:block}.star div,.star span{background:url(/images/nav_logo229.png) no-repeat 0 -245px;height:13px;width:65px;display:block}.Pj9hGd{display:inline;margin:0 3px;outline-color:transparent;overflow:hidden;position:relative}.Pj9hGd>div{outline-color:transparent}.CiacGf{border-color:transparent;border-style:solid dashed dashed;border-top-color:green;border-width:4px 4px 0 4px;cursor:pointer;display:inline-block;font-size:0;height:0;left:4px;line-height:0;outline-color:transparent;position:relative;top:-3px;width:0}.CiacGf{margin-top:-4px}.am-dropdown-menu{display:block;background:#fff;border:1px solid #dcdcdc;font-size:13px;left:0;padding:0;position:absolute;right:auto;white-space:nowrap;z-index:3}.mUpfKd{list-style:none;white-space:nowrap}.mUpfKd:hover{background-color:#eee}a.imx0m{color:#333;cursor:pointer;display:block;padding:7px 18px;text-decoration:none}#tads a.imx0m{color:#333}.sfbgg{background:#f1f1f1;border-bottom:1px solid #e5e5e5;height:71px}#logocont{z-index:1;padding-left:4px;padding-top:4px}#logo{display:block;height:49px;margin-top:12px;margin-left:12px;overflow:hidden;position:relative;width:137px}#logo img{left:0;position:absolute;top:-41px}.lst-a{background:white;border:1px solid #d9d9d9;border-top-color:silver;width:570px}.lst-a:hover{border:1px solid #b9b9b9;border-top:1px solid #a0a0a0;box-shadow:inset 0 1px 2px rgba(0,0,0,0.1);-webkit-box-shadow:inset 0 1px 2px rgba(0,0,0,0.1);-moz-box-shadow:inset 0 1px 2px rgba(0,0,0,0.1)}.lst-td{border:none;padding:0}.tia input{border-right:none;padding-right:0}.tia{padding-right:0}.lst{background:none;border:none;color:#000;font:16px arial,sans-serif;float:left;height:22px;margin:0;padding:3px 6px 2px 9px;vertical-align:top;width:100%;word-break:break-all}.lst:focus{outline:none}.lst-b{background:none;border:none;height:26px;padding:0 6px 0 12px}.ds{border-right:1px solid #e7e7e7;position:relative;height:29px;margin-left:17px;z-index:100}.lsbb{background-image:-moz-linear-gradient(top,#4d90fe,#4787ed);background-image:-ms-linear-gradient(top,#4d90fe,#4787ed);background-image:-o-linear-gradient(top,#4d90fe,#4787ed);background-image:-webkit-gradient(linear,left top,left bottom,from(#4d90fe),to(#4787ed));background-image:-webkit-linear-gradient(top,#4d90fe,#4787ed);background-image:linear-gradient(top,#4d90fe,#4787ed);border:1px solid #3079ed;border-radius:2px;background-color:#4d90fe;height:27px;width:68px}.lsbb:hover{background-image:-moz-linear-gradient(top,#4d90fe,#357ae8);background-image:-ms-linear-gradient(top,#4d90fe,#357ae8);background-image:-o-linear-gradient(top,#4d90fe,#357ae8);background-image:-webkit-gradient(linear,left top,left bottom,from(#4d90fe),to(#357ae8));background-image:-webkit-linear-gradient(top,#4d90fe,#357ae8);background-color:#357ae8;background-image:linear-gradient(top,#4d90fe,#357ae8);border:1px solid #2f5bb7}.lsb{background:transparent;background-position:0 -343px;background-repeat:repeat-x;border:none;color:#000;cursor:default;font:15px arial,sans-serif;height:29px;margin:0;vertical-align:top;width:100%}.lsb:active{-moz-box-shadow:inset 0 1px 2px rgba(0,0,0,0.3);-webkit-box-shadow:inset 0 1px 2px rgba(0,0,0,0.3);box-shadow:inset 0 1px 2px rgba(0,0,0,0.3);background:transparent;color:transparent;overflow:hidden;position:relative;width:100%}.sbico{color:transparent;display:inline-block;height:15px;margin:0 auto;margin-top:2px;width:15px;overflow:hidden}</style><script nonce=\"uI89iOtL74ZhbPXq+h4YSw==\">(function(){window.google={kEI:'LW7eWt53x7KzAeLxv9gB',kEXPI:'0,1353746,58,472,640,541,218,86,583,435,17,58,365,697,21,175,2,113,171,224,296,2341144,231,196,32,329294,1294,12383,2349,2506,32692,16114,41,728,7,792,7,5117,2240,3231,5281,1100,3101,234,2,2,1624,5177,366,551,332,2434,113,1150,464,587,3191,224,856,1362,58,70,132,1028,4079,444,369,881,2,558,21,352,24,287,64,311,297,587,467,402,368,58,2,4,276,265,144,612,388,789,490,475,148,299,1,849,156,728,555,1060,2,479,38,7,3,148,464,634,8,537,771,66,150,11,1,1,32,729,45,194,332,707,365,193,6,452,152,130,2,7,434,399,28,256,143,634,354,301,234,25,10,154,45,142,360,57,94,124,219,54,770,76,88,37,143,409,10,9,212,2,86,180,71,160,715,6030815,2545,9,31114518',authuser:0,kscs:'c9c918f0_LW7eWt53x7KzAeLxv9gB',u:'c9c918f0',kGL:'GB'};google.kHL='en-GB';})();(function(){google.lc=[];google.li=0;google.getEI=function(a){for(var b;a&&(!a.getAttribute||!(b=a.getAttribute(\"eid\")));)a=a.parentNode;return b||google.kEI};google.getLEI=function(a){for(var b=null;a&&(!a.getAttribute||!(b=a.getAttribute(\"leid\")));)a=a.parentNode;return b};google.https=function(){return\"https:\"==window.location.protocol};google.ml=function(){return null};google.wl=function(a,b){try{google.ml(Error(a),!1,b)}catch(d){}};google.time=function(){return(new Date).getTime()};google.log=function(a,b,d,c,g){if(a=google.logUrl(a,b,d,c,g)){b=new Image;var e=google.lc,f=google.li;e[f]=b;b.onerror=b.onload=b.onabort=function(){delete e[f]};google.vel&&google.vel.lu&&google.vel.lu(a);b.src=a;google.li=f+1}};google.logUrl=function(a,b,d,c,g){var e=\"\",f=google.ls||\"\";d||-1!=b.search(\"&ei=\")||(e=\"&ei=\"+google.getEI(c),-1==b.search(\"&lei=\")&&(c=google.getLEI(c))&&(e+=\"&lei=\"+c));c=\"\";!d&&google.cshid&&-1==b.search(\"&cshid=\")&&(c=\"&cshid=\"+google.cshid);a=d||\"/\"+(g||\"gen_204\")+\"?atyp=i&ct=\"+a+\"&cad=\"+b+e+f+\"&zx=\"+google.time()+c;/^http:/i.test(a)&&google.https()&&(google.ml(Error(\"a\"),!1,{src:a,glmm:1}),a=\"\");return a};}).call(this);(function(){google.y={};google.x=function(a,b){if(a)var c=a.id;else{do c=Math.random();while(google.y[c])}google.y[c]=[a,b];return!1};google.lm=[];google.plm=function(a){google.lm.push.apply(google.lm,a)};google.lq=[];google.load=function(a,b,c){google.lq.push([[a],b,c])};google.loadAll=function(a,b){google.lq.push([a,b])};}).call(this);google.f={};(function(){var b={gen204:\"dcl\",clearcut:4};var c=[function(){google.c&&google.tick(\"load\",b)}];google.dclc=function(a){c.length?c.push(a):a()};function d(){for(var a;a=c.shift();)a()}window.addEventListener?(document.addEventListener(\"DOMContentLoaded\",d,!1),window.addEventListener(\"load\",d,!1)):window.attachEvent&&window.attachEvent(\"onload\",d);}).call(this);</script><script type=\"text/javascript\" nonce=\"uI89iOtL74ZhbPXq+h4YSw==\"></script><script nonce=\"uI89iOtL74ZhbPXq+h4YSw==\">(function(){google.sham=function(c){for(var d=c.parentElement,a=null,b=0;b<d.childNodes.length;b++){var e=d.childNodes[b];-1<(\" \"+e.className+\" \").indexOf(\" am-dropdown-menu \")&&(a=e)}\"none\"==a.style.display?(a.style.display=\"\",google.log(\"hpam\",\"&ved=\"+c.getAttribute(\"data-ved\"))):a.style.display=\"none\"};}).call(this);(function(){var a=[];google.jsc={xx:a,x:function(b){a.push(b)}};}).call(this);</script></head><body class=\"hsrp\" bgcolor=\"#ffffff\" marginheight=\"0\" marginwidth=\"0\" topmargin=\"0\"><div id=gbar><nobr><b class=gb1>Search</b> <a class=gb1 href=\"https://www.google.co.uk/search?hl=en&tbm=isch&source=og&tab=wi\">Images</a> <a class=gb1 href=\"https://maps.google.co.uk/maps?hl=en&tab=wl\">Maps</a> <a class=gb1 href=\"https://play.google.com/?hl=en&tab=w8\">Play</a> <a class=gb1 href=\"https://www.youtube.com/results?gl=GB&tab=w1\">YouTube</a> <a class=gb1 href=\"https://news.google.co.uk/nwshp?hl=en&tab=wn\">News</a> <a class=gb1 href=\"https://mail.google.com/mail/?tab=wm\">Gmail</a> <a class=gb1 href=\"https://drive.google.com/?tab=wo\">Drive</a> <a class=gb1 style=\"text-decoration:none\" href=\"https://www.google.co.uk/intl/en/options/\"><u>More</u> &raquo;</a></nobr></div><div id=guser width=100%><nobr><span id=gbn class=gbi></span><span id=gbf class=gbf></span><span id=gbe></span><a href=\"http://www.google.co.uk/history/optout?hl=en\" class=gb4>Web History</a> | <a  href=\"/preferences?hl=en\" class=gb4>Settings</a> | <a target=_top id=gb_70 href=\"https://accounts.google.com/ServiceLogin?hl=en&passive=true&continue=https://www.google.com.hk/search%3Fsafe%3Don%26q%3Dhello%2Bkitty%26sa%3DX\" class=gb4>Sign in</a></nobr></div><div class=gbh style=left:0></div><div class=gbh style=right:0></div><table id=\"mn\" border=\"0\" cellpadding=\"0\" cellspacing=\"0\" style=\"position:relative\"><tr><th width=\"132\"></th><th width=\"573\"></th><th width=\"278\"></th><th></th></tr><tr><td class=\"sfbgg\" valign=\"top\"><div id=\"logocont\"><h1><a href=\"/webhp?hl=en-GB\" style=\"background:url(/images/nav_logo229.png) no-repeat 0 -41px;height:37px;width:95px;display:block\" id=\"logo\" title=\"Go to Google Home\"></a></h1></div></td><td class=\"sfbgg\" colspan=\"2\" valign=\"top\" style=\"padding-left:0px\"><form style=\"display:block;margin:0;background:none\" action=\"/search\" id=\"tsf\" method=\"GET\" name=\"gs\"><table border=\"0\" cellpadding=\"0\" cellspacing=\"0\" style=\"margin-top:20px;position:relative\"><tr><td><div class=\"lst-a\"><table cellpadding=\"0\" cellspacing=\"0\"><tr><td class=\"lst-td\" width=\"555\" valign=\"bottom\"><div style=\"position:relative;zoom:1\"><input class=\"lst\" value=\"hello kitty\" title=\"Search\" autocomplete=\"off\" id=\"sbhost\" maxlength=\"2048\" name=\"q\" type=\"text\"></div></td></tr></table></div></td><td><div class=\"ds\"><div class=\"lsbb\"><button class=\"lsb\" value=\"Search\" name=\"btnG\" type=\"submit\"><span class=\"sbico\" style=\"background:url(/images/nav_logo229.png) no-repeat -36px -111px;height:14px;width:13px;display:block\"></span></button></div></div></td></tr></table><input name=\"safe\" value=\"active\" type=\"hidden\"></form></td><td class=\"sfbgg\">&nbsp;</td></tr><tr style=\"position:relative\"><td><div style=\"border-bottom:1px solid #ebebeb;height:59px\"></div></td><td colspan=\"2\"><div class=\"tn\"><div class=\"qrSWbe tnuiC sFTC8c pqkqJe\">All</div><div class=\"sFTC8c\"><a class=\"qrSWbe KDZjCd\" href=\"/search?q=hello+kitty&amp;safe=active&amp;ie=UTF-8&amp;prmd=ivnsa&amp;source=lnms&amp;tbm=isch&amp;sa=X&amp;ved=0ahUKEwiewpmlyNHaAhVH2SwKHeL4DxsQ_AUIBQ\">Images</a></div><div class=\"sFTC8c\"><a class=\"qrSWbe KDZjCd\" href=\"/search?q=hello+kitty&amp;safe=active&amp;ie=UTF-8&amp;prmd=ivnsa&amp;source=lnms&amp;tbm=vid&amp;sa=X&amp;ved=0ahUKEwiewpmlyNHaAhVH2SwKHeL4DxsQ_AUIBg\">Videos</a></div><div class=\"sFTC8c\"><a class=\"qrSWbe KDZjCd\" href=\"/search?q=hello+kitty&amp;safe=active&amp;ie=UTF-8&amp;prmd=ivnsa&amp;source=lnms&amp;tbm=nws&amp;sa=X&amp;ved=0ahUKEwiewpmlyNHaAhVH2SwKHeL4DxsQ_AUIBw\">News</a></div><div class=\"sFTC8c\"><a class=\"qrSWbe KDZjCd\" href=\"/search?q=hello+kitty&amp;safe=active&amp;ie=UTF-8&amp;prmd=ivnsa&amp;source=lnms&amp;tbm=shop&amp;sa=X&amp;ved=0ahUKEwiewpmlyNHaAhVH2SwKHeL4DxsQ_AUICA\">Shopping</a></div><div class=\"sFTC8c\"><a class=\"qrSWbe KDZjCd\" href=\"https://maps.google.com.hk/maps?safe=on&amp;q=hello+kitty&amp;um=1&amp;ie=UTF-8&amp;sa=X&amp;ved=0ahUKEwiewpmlyNHaAhVH2SwKHeL4DxsQ_AUICQ\">Maps</a></div><div class=\"sFTC8c\"><a class=\"qrSWbe KDZjCd\" href=\"/search?q=hello+kitty&amp;safe=active&amp;ie=UTF-8&amp;prmd=ivnsa&amp;source=lnms&amp;tbm=bks&amp;sa=X&amp;ved=0ahUKEwiewpmlyNHaAhVH2SwKHeL4DxsQ_AUICg\">Books</a></div></div><div style=\"border-bottom:1px solid #ebebeb;height:59px\"></div></td><td><div style=\"border-bottom:1px solid #ebebeb;height:59px\"></div></td></tr><tbody id=\"desktop-search\"><style>.pCA4Bd,.pCA4Bd a:link,.pCA4Bd a:visited,a.pCA4Bd:link,a.pCA4Bd:visited{color:#808080}.AzrInc{color:#61C}.ellip{overflow:hidden;text-overflow:ellipsis;white-space:nowrap}.VBt9Dc{border:1px solid #e0e0e0;font-size:13px;margin-right:-2px;}.V7Q8V{margin:4px 10px}.AwJT2c{background:white;border-bottom:0;border-left:0;border-right:0;border-top:1px solid #e0e0e0;cursor:pointer;height:40px;outline:0;width:100%}.dxrUgb{color:#777;font-size:11px}.dxrUgb a{color:#777;text-decoration:none}.xpdclpsbtn{}.xpdxpndbtn{}.xpdclpsbtn .KMK5T{background:url(/images/nav_logo229.png) no-repeat -50px -79px;height:22px;width:64px}.xpdxpndbtn .KMK5T{background:url(/images/nav_logo229.png) no-repeat -50px -102px;height:22px;width:64px}.mraOPb{color:#222;font-size:15px;line-height:normal;margin:12px 0}.dXAUyb{margin:4px 0}.R8KuR{margin:10px;overflow:hidden;position:relative;white-space:nowrap;}.M1e9Oe{display:-moz-inline-stack;display:inline-block;position:relative;width:100%;z-index:0;}.OSMzvb{display:-moz-inline-stack;display:inline-block;max-width:100%;overflow:hidden;}.JKXCdf{position:absolute;right:0;z-index:1;}.FSP1Dd{border-top:1px solid #e0e0e0;color:#000;font-size:22px;margin-top:-5px;padding-top:10px}.CB9G1b{color:#000;font-size:14px}.F7uZG{color:#777;margin:4px 0;overflow:hidden}.Rlw09{margin-bottom:20px}.cC4Myd{color:#212121}.A1t5ne{color:#777}.cC4Myd{font-weight:bold}.xKoZHf{margin-left:10px}.B27ELd.ty7XEe{margin-right:10px}.x32fhf{color:#222;font-size:18px;margin:20px 0 8px 0}.lHETUb{color:#222;font-size:18px;margin:20px 10px 8px 10px}.B27ELd{display:-moz-inline-stack;display:inline-block;margin-bottom:10px;margin-right:21px;text-align:left;vertical-align:top;}.tQOFN{overflow:hidden}.czonVc{color:#777;overflow:hidden;text-overflow:ellipsis;white-space:normal;word-wrap:break-word}.brYqc{margin:6px 0 0 8px;overflow:hidden;text-overflow:ellipsis;white-space:normal;word-wrap:break-word}</style><tr><td id=\"leftnav\" valign=\"top\"><div><h2 class=\"hd\">Search Options</h2><ul class=\"med\" id=\"tbd\"><li><ul class=\"tbt\"><li class=\"tbos\" id=\"lr_\">Any country</li><li class=\"tbou\" id=\"ctr_countryUK|countryGB\"><a class=\"q\" href=\"/search?q=hello+kitty&amp;safe=active&amp;ie=UTF-8&amp;prmd=ivnsa&amp;source=lnt&amp;tbs=ctr:countryUK%7CcountryGB&amp;cr=countryUK%7CcountryGB&amp;sa=X&amp;ved=0ahUKEwiewpmlyNHaAhVH2SwKHeL4DxsQpwUIDw\">Country: the UK</a></li></ul></li><li><ul class=\"tbt\"><li class=\"tbos\" id=\"qdr_\">Any time</li><li class=\"tbou\" id=\"qdr_h\"><a class=\"q\" href=\"/search?q=hello+kitty&amp;safe=active&amp;ie=UTF-8&amp;prmd=ivnsa&amp;source=lnt&amp;tbs=qdr:h&amp;sa=X&amp;ved=0ahUKEwiewpmlyNHaAhVH2SwKHeL4DxsQpwUIDw\">Past hour</a></li><li class=\"tbou\" id=\"qdr_d\"><a class=\"q\" href=\"/search?q=hello+kitty&amp;safe=active&amp;ie=UTF-8&amp;prmd=ivnsa&amp;source=lnt&amp;tbs=qdr:d&amp;sa=X&amp;ved=0ahUKEwiewpmlyNHaAhVH2SwKHeL4DxsQpwUIDw\">Past 24 hours</a></li><li class=\"tbou\" id=\"qdr_w\"><a class=\"q\" href=\"/search?q=hello+kitty&amp;safe=active&amp;ie=UTF-8&amp;prmd=ivnsa&amp;source=lnt&amp;tbs=qdr:w&amp;sa=X&amp;ved=0ahUKEwiewpmlyNHaAhVH2SwKHeL4DxsQpwUIDw\">Past week</a></li><li class=\"tbou\" id=\"qdr_m\"><a class=\"q\" href=\"/search?q=hello+kitty&amp;safe=active&amp;ie=UTF-8&amp;prmd=ivnsa&amp;source=lnt&amp;tbs=qdr:m&amp;sa=X&amp;ved=0ahUKEwiewpmlyNHaAhVH2SwKHeL4DxsQpwUIDw\">Past month</a></li><li class=\"tbou\" id=\"qdr_y\"><a class=\"q\" href=\"/search?q=hello+kitty&amp;safe=active&amp;ie=UTF-8&amp;prmd=ivnsa&amp;source=lnt&amp;tbs=qdr:y&amp;sa=X&amp;ved=0ahUKEwiewpmlyNHaAhVH2SwKHeL4DxsQpwUIDw\">Past year</a></li></ul></li><li><ul class=\"tbt\"><li class=\"tbos\" id=\"li_\">All results</li><li class=\"tbou\" id=\"li_1\"><a class=\"q\" href=\"/search?q=hello+kitty&amp;safe=active&amp;ie=UTF-8&amp;prmd=ivnsa&amp;source=lnt&amp;tbs=li:1&amp;sa=X&amp;ved=0ahUKEwiewpmlyNHaAhVH2SwKHeL4DxsQpwUIDw\">Verbatim</a></li></ul></li></ul></div></td><td valign=\"top\"><div id=\"center_col\"><div class=\"sd\" id=\"resultStats\">About 7,410,000 results</div><div id=\"res\"><div id=\"topstuff\"></div><div id=\"search\"><div id=\"ires\"><ol><div class=\"g\"><h3 class=\"r\"><a href=\"/search?q=hello+kitty&amp;safe=active&amp;sa=X&amp;ie=UTF-8&amp;prmd=ivnsa&amp;tbm=isch&amp;tbo=u&amp;source=univ&amp;ved=0ahUKEwiewpmlyNHaAhVH2SwKHeL4DxsQsAQIFA\">Images for <b>hello kitty</b></a></h3><br><div><a href=\"/url?q=https://www.sanrio.com/&amp;sa=U&amp;ved=0ahUKEwiewpmlyNHaAhVH2SwKHeL4DxsQwW4IFjAA&amp;usg=AOvVaw3Fblcf6eQnZ2IQLL2HKg7Z\"><img style=\"margin:3px 0;margin-right:6px;padding:0\" height=\"81\" src=\"https://encrypted-tbn0.gstatic.com/images?q=tbn:ANd9GcTkdHXloFhAzUsQu7MT5E0vMiAzrRL1e2qIrOWG0UixxFlk6AiThZ9OGM8\" title=\"https://www.sanrio.com/\" width=\"81\" alt=\"Image result for hello kitty\" align=\"middle\"></a><a href=\"/url?q=https://en.wikipedia.org/wiki/Hello_Kitty&amp;sa=U&amp;ved=0ahUKEwiewpmlyNHaAhVH2SwKHeL4DxsQwW4IGDAB&amp;usg=AOvVaw1jt_p_Ly7f9dB91_U86ZoK\"><img style=\"margin:3px 0;margin-right:6px;padding:0\" height=\"71\" src=\"https://encrypted-tbn0.gstatic.com/images?q=tbn:ANd9GcRF1UU_1NoNEDX36JfYorZGwfND2z65RqaPPdIp7Z3fC7MSR5k3vG7RvA\" title=\"https://en.wikipedia.org/wiki/Hello_Kitty\" width=\"56\" alt=\"Image result for hello kitty\" align=\"middle\"></a><a href=\"/url?q=https://www.sanrio.com/categories/hello-kitty&amp;sa=U&amp;ved=0ahUKEwiewpmlyNHaAhVH2SwKHeL4DxsQwW4IGjAC&amp;usg=AOvVaw2Fj--7EgIWc21ZjglJM4cb\"><img style=\"margin:3px 0;margin-right:6px;padding:0\" height=\"81\" src=\"https://encrypted-tbn0.gstatic.com/images?q=tbn:ANd9GcTdJws1iv1IXD7eSU4TFwQ2XzpBLBQRiY9qm0XMJihnZY-BbXmlCM_fvw\" title=\"https://www.sanrio.com/categories/hello-kitty\" width=\"98\" alt=\"Image result for hello kitty\" align=\"middle\"></a><a href=\"/url?q=https://twitter.com/hellokitty&amp;sa=U&amp;ved=0ahUKEwiewpmlyNHaAhVH2SwKHeL4DxsQwW4IHDAD&amp;usg=AOvVaw1f-OfIAxVQPXXePsj5Jhza\"><img style=\"margin:3px 0;margin-right:6px;padding:0\" height=\"79\" src=\"https://encrypted-tbn0.gstatic.com/images?q=tbn:ANd9GcSV9iJ9Q7MlJc57LHT85cROxnLuDQWT5iI_I5FMT52F4I0-lsPOulU6RA\" title=\"https://twitter.com/hellokitty\" width=\"79\" alt=\"Image result for hello kitty\" align=\"middle\"></a><a href=\"/url?q=https://www.theguardian.com/lifeandstyle/shortcuts/2014/aug/28/hello-kitty-cat-40-anniversary-japanese-london&amp;sa=U&amp;ved=0ahUKEwiewpmlyNHaAhVH2SwKHeL4DxsQwW4IHjAE&amp;usg=AOvVaw0nPiYs02XYtIXnSU3o250r\"><img style=\"margin:3px 0;margin-right:6px;padding:0\" height=\"82\" src=\"https://encrypted-tbn0.gstatic.com/images?q=tbn:ANd9GcQzZPFeE22DwupbqbKdjbI6uWkoO7a1AWlepY007ddtisZTJeQIe9m48so\" title=\"https://www.theguardian.com/lifeandstyle/shortcuts/2014/aug/28/hello-kitty-cat-40-anniversary-japanese-london\" width=\"109\" alt=\"Image result for hello kitty\" align=\"middle\"></a><a href=\"/url?q=https://www.sanrio.com/&amp;sa=U&amp;ved=0ahUKEwiewpmlyNHaAhVH2SwKHeL4DxsQwW4IIDAF&amp;usg=AOvVaw3k0xlefRD68xXTkGvRca0A\"><img style=\"margin:3px 0;margin-right:6px;padding:0\" height=\"81\" src=\"https://encrypted-tbn0.gstatic.com/images?q=tbn:ANd9GcRPHZHrbPjX0sEgQ3Ks-hMNm42pB9zTr6LDfaol9F7x3v17z10hG8Hyg-4\" title=\"https://www.sanrio.com/\" width=\"81\" alt=\"Image result for hello kitty\" align=\"middle\"></a></div></div><div class=\"g\"><h3 class=\"r\"><a href=\"/url?q=https://en.wikipedia.org/wiki/Hello_Kitty&amp;sa=U&amp;ved=0ahUKEwiewpmlyNHaAhVH2SwKHeL4DxsQFggiMAY&amp;usg=AOvVaw0WcxeIm5ED34vPzT7gwuL4\"><b>Hello Kitty</b> - Wikipedia</a></h3><div class=\"s\"><div class=\"hJND5c\" style=\"margin-bottom:2px\"><cite>https://en.wikipedia.org/wiki/<b>Hello</b>_<b>Kitty</b></cite><div class=\"Pj9hGd\"><div style=\"display:inline\" onclick=\"google.sham(this);\" aria-expanded=\"false\" aria-haspopup=\"true\" tabindex=\"0\" data-ved=\"0ahUKEwiewpmlyNHaAhVH2SwKHeL4DxsQ7B0IIzAG\"><span class=\"CiacGf\"></span></div><div style=\"display:none\" class=\"am-dropdown-menu\" role=\"menu\" tabindex=\"-1\"><ul><li class=\"mUpfKd\"><a class=\"imx0m\" href=\"/url?q=http://webcache.googleusercontent.com/search%3Fq%3Dcache:WN0w1_0x1UoJ:https://en.wikipedia.org/wiki/Hello_Kitty%252Bhello%2Bkitty%26safe%3Dactive%26hl%3Den%26ct%3Dclnk&amp;sa=U&amp;ved=0ahUKEwiewpmlyNHaAhVH2SwKHeL4DxsQIAglMAY&amp;usg=AOvVaw03Vy8Scw9ukTbilq1RHHUb\">Cached</a></li><li class=\"mUpfKd\"><a class=\"imx0m\" href=\"/search?safe=active&amp;ie=UTF-8&amp;q=related:https://en.wikipedia.org/wiki/Hello_Kitty+hello+kitty&amp;tbo=1&amp;sa=X&amp;ved=0ahUKEwiewpmlyNHaAhVH2SwKHeL4DxsQHwgmMAY\">Similar</a></li></ul></div></div></div><span class=\"st\"><b>Hello Kitty</b> is a fictional character produced by the Japanese company Sanrio, <br>\n",
      "created by Yuko Shimizu and currently designed by Yuko Yamaguchi. According <br>\n",
      "to her backstory, she is a perpetual 3rd grade student who lives outside London. <br>\n",
      "Though she appears to be anthropomorphic, according to her creators she is not<br>\n",
      "&nbsp;...</span><br><div class=\"osl\"><a href=\"/url?q=https://en.wikipedia.org/wiki/Yuko_Shimizu&amp;sa=U&amp;ved=0ahUKEwiewpmlyNHaAhVH2SwKHeL4DxsQ0gIIKCgAMAY&amp;usg=AOvVaw2C8l4V1yUwrI2jB7TdOjlk\">Yuko Shimizu</a> - <a href=\"/url?q=https://en.wikipedia.org/wiki/Sanrio&amp;sa=U&amp;ved=0ahUKEwiewpmlyNHaAhVH2SwKHeL4DxsQ0gIIKSgBMAY&amp;usg=AOvVaw1V_7SbzxAPC0A3XFhNVCfc\">Sanrio</a> - <a href=\"/url?q=https://en.wikipedia.org/wiki/Yuko_Yamaguchi&amp;sa=U&amp;ved=0ahUKEwiewpmlyNHaAhVH2SwKHeL4DxsQ0gIIKigCMAY&amp;usg=AOvVaw3y2qLVjx323093Hb-bNSll\">Yuko Yamaguchi</a> - <a href=\"/url?q=https://en.wikipedia.org/wiki/List_of_Hello_Kitty_television_series&amp;sa=U&amp;ved=0ahUKEwiewpmlyNHaAhVH2SwKHeL4DxsQ0gIIKygDMAY&amp;usg=AOvVaw3guYaLqP_FAQdwYsVwoQI4\">List of Hello Kitty television ...</a></div></div></div><div class=\"g\"><h3 class=\"r\"><a href=\"/url?q=https://www.sanrio.com/&amp;sa=U&amp;ved=0ahUKEwiewpmlyNHaAhVH2SwKHeL4DxsQFggtMAc&amp;usg=AOvVaw2gO8bKzwdWBVt0DS5XK3co\">Sanrio: The Official Home of <b>Hello Kitty</b> &amp; Friends</a></h3><div class=\"s\"><div class=\"hJND5c\" style=\"margin-bottom:2px\"><cite>https://www.sanrio.com/</cite><div class=\"Pj9hGd\"><div style=\"display:inline\" onclick=\"google.sham(this);\" aria-expanded=\"false\" aria-haspopup=\"true\" tabindex=\"0\" data-ved=\"0ahUKEwiewpmlyNHaAhVH2SwKHeL4DxsQ7B0ILjAH\"><span class=\"CiacGf\"></span></div><div style=\"display:none\" class=\"am-dropdown-menu\" role=\"menu\" tabindex=\"-1\"><ul><li class=\"mUpfKd\"><a class=\"imx0m\" href=\"/url?q=http://webcache.googleusercontent.com/search%3Fq%3Dcache:XcVtgsJCXsYJ:https://www.sanrio.com/%252Bhello%2Bkitty%26safe%3Dactive%26hl%3Den%26ct%3Dclnk&amp;sa=U&amp;ved=0ahUKEwiewpmlyNHaAhVH2SwKHeL4DxsQIAgwMAc&amp;usg=AOvVaw0wGHgjk6htx3h8uHEXKfEd\">Cached</a></li></ul></div></div></div><span class=\"st\">The official website for all things Sanrio - the official home of <b>Hello Kitty</b> &amp; Friends <br>\n",
      "- games, events, characters, videos, shopping and more!</span><br></div></div><div class=\"g\"><table class=\"ts\"><tr><td colspan=\"2\"><h3 class=\"r\"><a href=\"/url?q=https://www.youtube.com/watch%3Fv%3Dmtw68bn61qM&amp;sa=U&amp;ved=0ahUKEwiewpmlyNHaAhVH2SwKHeL4DxsQtwIIMzAI&amp;usg=AOvVaw1u8rR__t7pMj8ElDvvTrMj\"><b>Hello Kitty</b> CINDERELLA - YouTube</a></h3></td></tr><tr><td valign=\"top\" width=\"1\" style=\"padding:4px 8px 0 0\"><div class=\"th\" style=\"position:relative;overflow:hidden;width:116px;height:65px\"><a href=\"/url?q=https://www.youtube.com/watch%3Fv%3Dmtw68bn61qM&amp;sa=U&amp;ved=0ahUKEwiewpmlyNHaAhVH2SwKHeL4DxsQuAIINDAIUAE&amp;usg=AOvVaw0fZ6McdI3-uiXI4SlpqEYx\"><div style=\"margin-top:-11px\"><img src=\"https://img.youtube.com/vi/mtw68bn61qM/default.jpg?h=90&amp;w=120&amp;sigh=__O1OBY87d1YK3Twekm160JIYmIrQ=\" width=\"116\" alt=\"Video for hello kitty\" align=\"middle\"></div><div style=\"position:absolute;bottom:0;right:0;font-size:11px;color:#fff;background-color:#222;padding:1px 3px;text-decoration:none;font-weight:bold;text-align:right\">&#9658; 14:53</div></a></div></td><td valign=\"top\" style=\"padding-top:1px\"><cite class=\"hJND5c\">https://www.youtube.com/watch?v=mtw68bn61qM</cite><span class=\"st\"><span class=\"f\"><span class=\"nobr\">12 May 2016</span> - <span class=\"nobr\">15 min</span> - <span class=\"nobr\">Uploaded by Other Channel</span></span><br><b>Hello kitty</b>. Read more. Show less. Reply 21 22. Princess Cassandra Sparkle11  months ago. I <b>...</b></span></td></tr></table></div><div class=\"g\"><table class=\"ts\"><tr><td colspan=\"2\"><h3 class=\"r\"><a href=\"/url?q=https://www.youtube.com/watch%3Fv%3D30PXEtSX14U&amp;sa=U&amp;ved=0ahUKEwiewpmlyNHaAhVH2SwKHeL4DxsQtwIINzAJ&amp;usg=AOvVaw3gsTj9u95pF-PlTFdQgOOU\"><b>Hello Kitty</b> MEGA Cosmetics Set and Surprises - YouTube</a></h3></td></tr><tr><td valign=\"top\" width=\"1\" style=\"padding:4px 8px 0 0\"><div class=\"th\" style=\"position:relative;overflow:hidden;width:116px;height:65px\"><a href=\"/url?q=https://www.youtube.com/watch%3Fv%3D30PXEtSX14U&amp;sa=U&amp;ved=0ahUKEwiewpmlyNHaAhVH2SwKHeL4DxsQuAIIODAJUAE&amp;usg=AOvVaw3ZpAf961oalQcIAJ8VBT_i\"><div style=\"margin-top:-11px\"><img src=\"https://img.youtube.com/vi/30PXEtSX14U/default.jpg?h=90&amp;w=120&amp;sigh=__LgGDTnOz3_DbG7vhUk2RCDrmGbA=\" width=\"116\" alt=\"Video for hello kitty\" align=\"middle\"></div><div style=\"position:absolute;bottom:0;right:0;font-size:11px;color:#fff;background-color:#222;padding:1px 3px;text-decoration:none;font-weight:bold;text-align:right\">&#9658; 17:32</div></a></div></td><td valign=\"top\" style=\"padding-top:1px\"><cite class=\"hJND5c\">https://www.youtube.com/watch?v=30PXEtSX14U</cite><span class=\"st\"><span class=\"f\"><span class=\"nobr\">25 Feb 2017</span> - <span class=\"nobr\">18 min</span> - <span class=\"nobr\">Uploaded by Toy Genie Surprises</span></span><br><b>Hello Kitty</b> Mega Cosmetics Set and Surprises with Toy Genie. In this video, we  take a look at <b>...</b></span></td></tr></table></div><div class=\"g\"><h3 class=\"r\"><a href=\"/url?q=http://www.bbc.co.uk/newsbeat/article/28963085/hello-kitty-is-not-a-cat---shes-a-british-school-kid&amp;sa=U&amp;ved=0ahUKEwiewpmlyNHaAhVH2SwKHeL4DxsQFgg6MAo&amp;usg=AOvVaw275kjP7k-aZawHTERCxSID\"><b>Hello Kitty</b> is not a cat - she&#39;s a British school kid - BBC Newsbeat</a></h3><div class=\"s\"><div class=\"hJND5c\" style=\"margin-bottom:2px\"><cite>www.bbc.co.uk/.../<b>hello</b>-<b>kitty</b>-is-not-a-cat---shes-a-british-school-kid</cite><div class=\"Pj9hGd\"><div style=\"display:inline\" onclick=\"google.sham(this);\" aria-expanded=\"false\" aria-haspopup=\"true\" tabindex=\"0\" data-ved=\"0ahUKEwiewpmlyNHaAhVH2SwKHeL4DxsQ7B0IOzAK\"><span class=\"CiacGf\"></span></div><div style=\"display:none\" class=\"am-dropdown-menu\" role=\"menu\" tabindex=\"-1\"><ul><li class=\"mUpfKd\"><a class=\"imx0m\" href=\"/url?q=http://webcache.googleusercontent.com/search%3Fq%3Dcache:noW9vi9oqqAJ:http://www.bbc.co.uk/newsbeat/article/28963085/hello-kitty-is-not-a-cat---shes-a-british-school-kid%252Bhello%2Bkitty%26safe%3Dactive%26hl%3Den%26ct%3Dclnk&amp;sa=U&amp;ved=0ahUKEwiewpmlyNHaAhVH2SwKHeL4DxsQIAg9MAo&amp;usg=AOvVaw1_yYic6BDapEYbWw-9pP6k\">Cached</a></li><li class=\"mUpfKd\"><a class=\"imx0m\" href=\"/search?safe=active&amp;ie=UTF-8&amp;q=related:www.bbc.co.uk/newsbeat/article/28963085/hello-kitty-is-not-a-cat---shes-a-british-school-kid+hello+kitty&amp;tbo=1&amp;sa=X&amp;ved=0ahUKEwiewpmlyNHaAhVH2SwKHeL4DxsQHwg-MAo\">Similar</a></li></ul></div></div></div><span class=\"st\">27 Aug 2014 <b>...</b> You would be forgiven for having thought for your entire life that <b>Hello Kitty</b> was a <br>\n",
      "cat. After all, she does kind of look like one - and she is called Kitty. But her <br>\n",
      "creators Sanrio are adamant. She is a British school kid called Kitty White and <br>\n",
      "she lives just outside London (although no-one is saying exactly&nbsp;...</span><br></div></div><div class=\"g\"><h3 class=\"r\"><a href=\"/url?q=https://www.drusillas.co.uk/rides/hello-kitty-secret-garden&amp;sa=U&amp;ved=0ahUKEwiewpmlyNHaAhVH2SwKHeL4DxsQFghBMAs&amp;usg=AOvVaw1nUWTugKeX7jwr2E3UVJpp\"><b>Hello Kitty</b> Secret Garden - Visit <b>Hello Kitty</b> at Drusillas Park, UK</a></h3><div class=\"s\"><div class=\"hJND5c\" style=\"margin-bottom:2px\"><cite>https://www.drusillas.co.uk/rides/<b>hello</b>-<b>kitty</b>-secret-garden</cite><div class=\"Pj9hGd\"><div style=\"display:inline\" onclick=\"google.sham(this);\" aria-expanded=\"false\" aria-haspopup=\"true\" tabindex=\"0\" data-ved=\"0ahUKEwiewpmlyNHaAhVH2SwKHeL4DxsQ7B0IQjAL\"><span class=\"CiacGf\"></span></div><div style=\"display:none\" class=\"am-dropdown-menu\" role=\"menu\" tabindex=\"-1\"><ul><li class=\"mUpfKd\"><a class=\"imx0m\" href=\"/url?q=http://webcache.googleusercontent.com/search%3Fq%3Dcache:wDXTB71FJqoJ:https://www.drusillas.co.uk/rides/hello-kitty-secret-garden%252Bhello%2Bkitty%26safe%3Dactive%26hl%3Den%26ct%3Dclnk&amp;sa=U&amp;ved=0ahUKEwiewpmlyNHaAhVH2SwKHeL4DxsQIAhEMAs&amp;usg=AOvVaw2KSLBWGfjR5L4OIGZyFpq0\">Cached</a></li></ul></div></div></div><span class=\"st\">Meet <b>Hello Kitty</b> and receive a special hug and a photo or enjoy the <b>Hello Kitty</b> <br>\n",
      "car ride, tea cup ride and “reach for the sky” hopper. Find out more here. -</span><br></div></div><div class=\"g\"><h3 class=\"r\"><a href=\"/url?q=http://www.sanrio.eu/&amp;sa=U&amp;ved=0ahUKEwiewpmlyNHaAhVH2SwKHeL4DxsQFghGMAw&amp;usg=AOvVaw0BSO0_lwUdI1kC6CA8zOhP\">Sanrio Europe</a></h3><div class=\"s\"><div class=\"hJND5c\" style=\"margin-bottom:2px\"><cite>www.sanrio.eu/</cite><div class=\"Pj9hGd\"><div style=\"display:inline\" onclick=\"google.sham(this);\" aria-expanded=\"false\" aria-haspopup=\"true\" tabindex=\"0\" data-ved=\"0ahUKEwiewpmlyNHaAhVH2SwKHeL4DxsQ7B0IRzAM\"><span class=\"CiacGf\"></span></div><div style=\"display:none\" class=\"am-dropdown-menu\" role=\"menu\" tabindex=\"-1\"><ul><li class=\"mUpfKd\"><a class=\"imx0m\" href=\"/url?q=http://webcache.googleusercontent.com/search%3Fq%3Dcache:Gfd8TDQwntQJ:http://www.sanrio.eu/%252Bhello%2Bkitty%26safe%3Dactive%26hl%3Den%26ct%3Dclnk&amp;sa=U&amp;ved=0ahUKEwiewpmlyNHaAhVH2SwKHeL4DxsQIAhJMAw&amp;usg=AOvVaw3aQ_N-2ivxR5mWG_A8Yl8r\">Cached</a></li><li class=\"mUpfKd\"><a class=\"imx0m\" href=\"/search?safe=active&amp;ie=UTF-8&amp;q=related:www.sanrio.eu/+hello+kitty&amp;tbo=1&amp;sa=X&amp;ved=0ahUKEwiewpmlyNHaAhVH2SwKHeL4DxsQHwhKMAw\">Similar</a></li></ul></div></div></div><span class=\"st\">Barbie&#174; pays homage once again to <b>Hello Kitty</b> with a playful, supercute and <br>\n",
      "fashion-forward Barbie <b>Hello Kitty</b> - now ... Bea Szenfeld partners with Sanrio a... <br>\n",
      "Designer Bea Szenfeld has partnered with Sanrio a second time to design and <br>\n",
      "release an exclusive collection ... <b>Hello Kitty</b> Gang takes over Berlin ... After <br>\n",
      "starting&nbsp;...</span><br></div></div><div class=\"g\"><h3 class=\"r\"><a href=\"/url?q=http://www.thedrum.com/news/2018/02/26/how-hello-kitty-harnessed-the-power-cute-build-multi-billion-dollar-brand&amp;sa=U&amp;ved=0ahUKEwiewpmlyNHaAhVH2SwKHeL4DxsQFghMMA0&amp;usg=AOvVaw0wRYseiC_FAUKm2cXCYPzR\">How <b>Hello Kitty</b> harnessed the power of cute to build a multi-billion ...</a></h3><div class=\"s\"><div class=\"hJND5c\" style=\"margin-bottom:2px\"><cite>www.thedrum.com/.../how-<b>hello</b>-<b>kitty</b>-harnessed-the-power-cute-build-multi- billion-dollar-brand</cite><div class=\"Pj9hGd\"><div style=\"display:inline\" onclick=\"google.sham(this);\" aria-expanded=\"false\" aria-haspopup=\"true\" tabindex=\"0\" data-ved=\"0ahUKEwiewpmlyNHaAhVH2SwKHeL4DxsQ7B0ITTAN\"><span class=\"CiacGf\"></span></div><div style=\"display:none\" class=\"am-dropdown-menu\" role=\"menu\" tabindex=\"-1\"><ul><li class=\"mUpfKd\"><a class=\"imx0m\" href=\"/url?q=http://webcache.googleusercontent.com/search%3Fq%3Dcache:nGqIzxW8sjAJ:http://www.thedrum.com/news/2018/02/26/how-hello-kitty-harnessed-the-power-cute-build-multi-billion-dollar-brand%252Bhello%2Bkitty%26safe%3Dactive%26hl%3Den%26ct%3Dclnk&amp;sa=U&amp;ved=0ahUKEwiewpmlyNHaAhVH2SwKHeL4DxsQIAhPMA0&amp;usg=AOvVaw1dL1gcp4mVQ-IzI_1nl02w\">Cached</a></li></ul></div></div></div><span class=\"st\">26 Feb 2018 <b>...</b> The Drum is kicking off a series looking into the weird and wonderful origins of <br>\n",
      "some of the world&#39;s best-known brands with a deep dive into the colourful history <br>\n",
      "of <b>Hello Kitty</b>, exploring how the button-eyed totemic character went on to <br>\n",
      "become one of the most recognisable brands on the planet alongside&nbsp;...</span><br></div></div><div class=\"g\"><h3 class=\"r\"><a href=\"/url?q=http://www.dizzypink.co.uk/&amp;sa=U&amp;ved=0ahUKEwiewpmlyNHaAhVH2SwKHeL4DxsQFghSMA4&amp;usg=AOvVaw0t4WxaeRC36UyS5Ulzk7LO\">The Home of <b>Hello Kitty</b> in the UK</a></h3><div class=\"s\"><div class=\"hJND5c\" style=\"margin-bottom:2px\"><cite>www.dizzypink.co.uk/</cite><div class=\"Pj9hGd\"><div style=\"display:inline\" onclick=\"google.sham(this);\" aria-expanded=\"false\" aria-haspopup=\"true\" tabindex=\"0\" data-ved=\"0ahUKEwiewpmlyNHaAhVH2SwKHeL4DxsQ7B0IUzAO\"><span class=\"CiacGf\"></span></div><div style=\"display:none\" class=\"am-dropdown-menu\" role=\"menu\" tabindex=\"-1\"><ul><li class=\"mUpfKd\"><a class=\"imx0m\" href=\"/url?q=http://webcache.googleusercontent.com/search%3Fq%3Dcache:m9OMAondfq4J:http://www.dizzypink.co.uk/%252Bhello%2Bkitty%26safe%3Dactive%26hl%3Den%26ct%3Dclnk&amp;sa=U&amp;ved=0ahUKEwiewpmlyNHaAhVH2SwKHeL4DxsQIAhVMA4&amp;usg=AOvVaw0FNStoVnvpZl7ZCTVu9RdY\">Cached</a></li><li class=\"mUpfKd\"><a class=\"imx0m\" href=\"/search?safe=active&amp;ie=UTF-8&amp;q=related:www.dizzypink.co.uk/+hello+kitty&amp;tbo=1&amp;sa=X&amp;ved=0ahUKEwiewpmlyNHaAhVH2SwKHeL4DxsQHwhWMA4\">Similar</a></li></ul></div></div></div><span class=\"st\">Welcome to Dizzy Pink, the website for everything <b>Hello Kitty</b> We only stock <b>Hello</b> <br>\n",
      "<b>Kitty</b> items so you will be sure to find something to interest you if <b>Hello Kitty</b> is your <br>\n",
      "friend. From homeware to toys, clothing, jewellery, greeting cards, stationery, and <br>\n",
      "some more unusual items, at Dizzy Pink we aim to give you a wide range of&nbsp;...</span><br></div></div></ol></div></div></div><div style=\"clear:both;margin-bottom:17px;overflow:hidden\"><div style=\"font-size:16px;padding:0 8px 1px\">Searches related to <b>hello kitty</b></div><table border=\"0\" cellpadding=\"0\" cellspacing=\"0\"><tr><td valign=\"top\"><p class=\"aw5cc\" style=\"margin:3px 8px\"><a href=\"/search?safe=active&amp;ie=UTF-8&amp;q=hello+kitty+merchandise&amp;sa=X&amp;ved=0ahUKEwiewpmlyNHaAhVH2SwKHeL4DxsQ1QIIWSgA\">hello kitty <b>merchandise</b></a></p></td><td valign=\"top\" style=\"padding-left:10px\"><p class=\"aw5cc\" style=\"margin:3px 8px\"><a href=\"/search?safe=active&amp;ie=UTF-8&amp;q=hello+kitty+logo&amp;sa=X&amp;ved=0ahUKEwiewpmlyNHaAhVH2SwKHeL4DxsQ1QIIWigB\">hello kitty <b>logo</b></a></p></td></tr><tr><td valign=\"top\"><p class=\"aw5cc\" style=\"margin:3px 8px\"><a href=\"/search?safe=active&amp;ie=UTF-8&amp;q=hello+kitty+history&amp;sa=X&amp;ved=0ahUKEwiewpmlyNHaAhVH2SwKHeL4DxsQ1QIIWygC\">hello kitty <b>history</b></a></p></td><td valign=\"top\" style=\"padding-left:10px\"><p class=\"aw5cc\" style=\"margin:3px 8px\"><a href=\"/search?safe=active&amp;ie=UTF-8&amp;q=hello+kitty+and+friends&amp;sa=X&amp;ved=0ahUKEwiewpmlyNHaAhVH2SwKHeL4DxsQ1QIIXCgD\">hello kitty <b>and friends</b></a></p></td></tr><tr><td valign=\"top\"><p class=\"aw5cc\" style=\"margin:3px 8px\"><a href=\"/search?safe=active&amp;ie=UTF-8&amp;q=hello+kitty+youtube&amp;sa=X&amp;ved=0ahUKEwiewpmlyNHaAhVH2SwKHeL4DxsQ1QIIXSgE\">hello kitty <b>youtube</b></a></p></td><td valign=\"top\" style=\"padding-left:10px\"><p class=\"aw5cc\" style=\"margin:3px 8px\"><a href=\"/search?safe=active&amp;ie=UTF-8&amp;q=hello+kitty+pictures&amp;sa=X&amp;ved=0ahUKEwiewpmlyNHaAhVH2SwKHeL4DxsQ1QIIXigF\">hello kitty <b>pictures</b></a></p></td></tr><tr><td valign=\"top\"><p class=\"aw5cc\" style=\"margin:3px 8px\"><a href=\"/search?safe=active&amp;ie=UTF-8&amp;q=hello+kitty+story&amp;sa=X&amp;ved=0ahUKEwiewpmlyNHaAhVH2SwKHeL4DxsQ1QIIXygG\">hello kitty <b>story</b></a></p></td><td valign=\"top\" style=\"padding-left:10px\"><p class=\"aw5cc\" style=\"margin:3px 8px\"><a href=\"/search?safe=active&amp;ie=UTF-8&amp;q=hello+kitty+characters&amp;sa=X&amp;ved=0ahUKEwiewpmlyNHaAhVH2SwKHeL4DxsQ1QIIYCgH\">hello kitty <b>characters</b></a></p></td></tr></table></div></div><div id=\"foot\"><table align=\"center\" border=\"0\" cellpadding=\"0\" cellspacing=\"0\" id=\"nav\"><tr valign=\"top\"><td align=\"left\" class=\"b\"><span class=\"csb\" style=\"background-position:-24px 0;width:28px\"></span><b></b></td><td><span class=\"csb\" style=\"background-position:-53px 0;width:20px\"></span><b>1</b></td><td><a class=\"fl\" href=\"/search?q=hello+kitty&amp;safe=active&amp;ie=UTF-8&amp;prmd=ivnsa&amp;ei=LW7eWt53x7KzAeLxv9gB&amp;start=10&amp;sa=N\"><span class=\"csb\" style=\"background-position:-74px 0;width:20px\"></span>2</a></td><td><a class=\"fl\" href=\"/search?q=hello+kitty&amp;safe=active&amp;ie=UTF-8&amp;prmd=ivnsa&amp;ei=LW7eWt53x7KzAeLxv9gB&amp;start=20&amp;sa=N\"><span class=\"csb\" style=\"background-position:-74px 0;width:20px\"></span>3</a></td><td><a class=\"fl\" href=\"/search?q=hello+kitty&amp;safe=active&amp;ie=UTF-8&amp;prmd=ivnsa&amp;ei=LW7eWt53x7KzAeLxv9gB&amp;start=30&amp;sa=N\"><span class=\"csb\" style=\"background-position:-74px 0;width:20px\"></span>4</a></td><td><a class=\"fl\" href=\"/search?q=hello+kitty&amp;safe=active&amp;ie=UTF-8&amp;prmd=ivnsa&amp;ei=LW7eWt53x7KzAeLxv9gB&amp;start=40&amp;sa=N\"><span class=\"csb\" style=\"background-position:-74px 0;width:20px\"></span>5</a></td><td><a class=\"fl\" href=\"/search?q=hello+kitty&amp;safe=active&amp;ie=UTF-8&amp;prmd=ivnsa&amp;ei=LW7eWt53x7KzAeLxv9gB&amp;start=50&amp;sa=N\"><span class=\"csb\" style=\"background-position:-74px 0;width:20px\"></span>6</a></td><td><a class=\"fl\" href=\"/search?q=hello+kitty&amp;safe=active&amp;ie=UTF-8&amp;prmd=ivnsa&amp;ei=LW7eWt53x7KzAeLxv9gB&amp;start=60&amp;sa=N\"><span class=\"csb\" style=\"background-position:-74px 0;width:20px\"></span>7</a></td><td><a class=\"fl\" href=\"/search?q=hello+kitty&amp;safe=active&amp;ie=UTF-8&amp;prmd=ivnsa&amp;ei=LW7eWt53x7KzAeLxv9gB&amp;start=70&amp;sa=N\"><span class=\"csb\" style=\"background-position:-74px 0;width:20px\"></span>8</a></td><td><a class=\"fl\" href=\"/search?q=hello+kitty&amp;safe=active&amp;ie=UTF-8&amp;prmd=ivnsa&amp;ei=LW7eWt53x7KzAeLxv9gB&amp;start=80&amp;sa=N\"><span class=\"csb\" style=\"background-position:-74px 0;width:20px\"></span>9</a></td><td><a class=\"fl\" href=\"/search?q=hello+kitty&amp;safe=active&amp;ie=UTF-8&amp;prmd=ivnsa&amp;ei=LW7eWt53x7KzAeLxv9gB&amp;start=90&amp;sa=N\"><span class=\"csb\" style=\"background-position:-74px 0;width:20px\"></span>10</a></td><td class=\"b\" style=\"text-align:left\"><a class=\"fl\" href=\"/search?q=hello+kitty&amp;safe=active&amp;ie=UTF-8&amp;prmd=ivnsa&amp;ei=LW7eWt53x7KzAeLxv9gB&amp;start=10&amp;sa=N\" style=\"text-align:left\"><span class=\"csb\" style=\"background-position:-96px 0;width:71px\"></span><span style=\"display:block;margin-left:53px\">Next</span></a></td></tr></table><p class=\"A8ul6\" id=\"bfl\" style=\"margin:19px 0 0;text-align:center\"><a href=\"/advanced_search?q=hello+kitty&amp;safe=active&amp;ie=UTF-8&amp;prmd=ivnsa\">Advanced search</a><a href=\"/support/websearch/bin/answer.py?answer=134479&amp;hl=en-GB\">Search Help</a> <a href=\"/tools/feedback/survey/html?productId=196&amp;query=hello+kitty&amp;hl=en-GB\">Send feedback</a></p><div class=\"A8ul6\" id=\"fll\" style=\"margin:19px auto 19px auto;text-align:center\"><a href=\"/\">Google&nbsp;Home</a> <a href=\"/intl/en/ads\">Advertising&nbsp;Programmes</a> <a href=\"/services\">Business Solutions</a> <a href=\"/intl/en/policies/privacy/\">Privacy</a> <a href=\"/intl/en/policies/terms/\">Terms</a> <a href=\"/intl/en/about.html\">About Google</a></div></div></td><td id=\"rhs_block\" valign=\"top\"><ol><div class=\"g\"><div class=\"VBt9Dc hp-xpdbox\"><div class=\"R8KuR\" style=\"float:right\"><div class=\"OSMzvb\" style=\"height:74px;width:86px\"><a href=\"/url?q=http://sanyangfrp.com/hello-kitty-logo.html&amp;sa=U&amp;ved=0ahUKEwiewpmlyNHaAhVH2SwKHeL4DxsQndQBCGowDw&amp;usg=AOvVaw00iA8IhZVvKfCxU8bLhS4L\"><img src=\"https://encrypted-tbn0.gstatic.com/images?q=tbn:ANd9GcSOyA-ioudkRPHkJ3jxzIH7NI_kBGsLm-MNzvG9mYTvpOTLS317ktTsPw\" style=\"margin-left:0px;margin-right:0px\" title=\"http://sanyangfrp.com/hello-kitty-logo.html\" alt=\"Image result for hello kitty\"></a></div></div><div class=\"V7Q8V\"><div><div class=\"FSP1Dd\">Hello Kitty</div><div class=\"F7uZG Rlw09\">Fictional character</div></div></div><div class=\"V7Q8V\"><div class=\"mraOPb\"><span>Hello Kitty is a fictional character produced by the Japanese company Sanrio, created by Yuko Shimizu and currently designed by Yuko Yamaguchi. According to her backstory, she is a perpetual 3rd grade student who lives outside London. <a class=\"fl\" href=\"/url?q=https://en.wikipedia.org/wiki/Hello_Kitty&amp;sa=U&amp;ved=0ahUKEwiewpmlyNHaAhVH2SwKHeL4DxsQmhMIcCgAMBE&amp;usg=AOvVaw33hixlmsysc9kmGwPXpqrp\">Wikipedia</a></span></div></div><div class=\"V7Q8V\" style=\"display:none\"></div><div class=\"V7Q8V\"><span class=\"cC4Myd\">Birthday: </span><span class=\"A1t5ne\">1 November 1974</span></div><div class=\"V7Q8V\"><span class=\"cC4Myd\">Creator: </span><span class=\"A1t5ne\"><a class=\"A1t5ne fl\" href=\"/search?safe=active&amp;sa=X&amp;ie=UTF-8&amp;q=Yuko+Shimizu&amp;stick=H4sIAAAAAAAAAOPgE-LQz9U3SDMtM1fiArGMTONNjIy1jLKTrfTTMpNLMvPzEnPiS_Myy1KLilORhJIzEosSk0tSi6ySi1ITS_KLAIclAhdMAAAA&amp;ved=0ahUKEwiewpmlyNHaAhVH2SwKHeL4DxsQmxMIdigAMBQ\">Yuko Shimizu</a></span></div><div class=\"V7Q8V\"><span class=\"cC4Myd\">Family: </span><span class=\"A1t5ne\">Mimmy (twin sister); George (father); Mary (mother); Anthony (grandfather); Margaret (grandmother)</span></div><div class=\"V7Q8V\"><span class=\"cC4Myd\">First appearance: </span><span class=\"A1t5ne\">1974</span></div><div class=\"V7Q8V\"><span class=\"cC4Myd\">Species: </span><span class=\"A1t5ne\"><a class=\"A1t5ne fl\" href=\"/search?safe=active&amp;sa=X&amp;ie=UTF-8&amp;q=Japanese+Bobtail&amp;stick=H4sIAAAAAAAAAOPgE-LQz9U3SDMtM1fiBLEMjY3Kc7S0M8qt9JPzc3JSk0sy8_P00zLBdGJOfHJGYlFicklqUbFVcUFqcmZqMQAV6W0cRAAAAA&amp;ved=0ahUKEwiewpmlyNHaAhVH2SwKHeL4DxsQmxMIfSgAMBc\">Japanese Bobtail</a></span></div><div class=\"V7Q8V\"><span class=\"cC4Myd\">Voices: </span><span class=\"A1t5ne\"><a class=\"A1t5ne fl\" href=\"/search?safe=active&amp;sa=X&amp;ie=UTF-8&amp;q=Karen+Bernstein&amp;stick=H4sIAAAAAAAAAOPgE-LQz9U3SDMtM1fiBLEsi8wLK7R0M8qt9JPzc3JSk0sy8_P00zLBdGJOfHJGYlFicklqUbFVWX5mcmqKQlIlAETLcqNGAAAA&amp;ved=0ahUKEwiewpmlyNHaAhVH2SwKHeL4DxsQmxMIgAEoADAY\">Karen Bernstein</a>, <a class=\"A1t5ne fl\" href=\"/search?safe=active&amp;sa=X&amp;ie=UTF-8&amp;q=Monica+Rial&amp;stick=H4sIAAAAAAAAAOPgE-LQz9U3SDMtM1fiBLHMzHKMK7V0M8qt9JPzc3JSk0sy8_P00zLBdGJOfHJGYlFicklqUbFVWX5mcmqKQlIlABdSJ5hGAAAA&amp;ved=0ahUKEwiewpmlyNHaAhVH2SwKHeL4DxsQmxMIgQEoATAY\">Monica Rial</a>, <a class=\"A1t5ne fl\" href=\"/search?safe=active&amp;sa=X&amp;ie=UTF-8&amp;q=Melissa+Fahn&amp;stick=H4sIAAAAAAAAAOPgE-LQz9U3SDMtM1fiBLFMjTOyc7R0M8qt9JPzc3JSk0sy8_P00zLBdGJOfHJGYlFicklqUbFVWX5mcmqKQlIlAOBevJtGAAAA&amp;ved=0ahUKEwiewpmlyNHaAhVH2SwKHeL4DxsQmxMIggEoAjAY\">Melissa Fahn</a></span><span>, <a class=\"fl\" href=\"/search?safe=active&amp;sa=X&amp;ie=UTF-8&amp;q=hello+kitty+voices&amp;stick=H4sIAAAAAAAAAOPgE-LQz9U3SDMtM9fSzSi30k_Oz8lJTS7JzM_TT8sE04k58ckZiUWJySWpRcVWZfmZyakpCkmVAJ7VTKQ7AAAA\">more</a></span></div><div class=\"dXAUyb\"><div class=\"lHETUb\">People also search for</div><div class=\"xKoZHf B27ELd\" style=\"width:72px\"><div class=\"tQOFN\" style=\"height:72px\"><a class=\"FEM55\" href=\"/search?safe=active&amp;sa=X&amp;ie=UTF-8&amp;q=My+Melody&amp;stick=H4sIAAAAAAAAAONgFuLQz9U3SDMtM1fi1k_XNzQyyCqPN7fUknbLTC7JzM9LzHHOSCxKTC5JLSoOzkxJLU-sLAYA4ifdIzYAAAA&amp;ved=0ahUKEwiewpmlyNHaAhVH2SwKHeL4DxsQsQ4IhgEwGQ\"><img alt=\"My Melody\" height=\"72px\" src=\"https://encrypted-tbn1.gstatic.com/images?q=tbn:ANd9GcTwOxIq7COFCX26UCiu1U8-ttnkcOayh9CQA9b1cqf_YQNOL0vfi8Y\" title=\"My Melody\" width=\"72px\"></a></div><div class=\"brYqc\"><a class=\"fl\" href=\"/search?safe=active&amp;sa=X&amp;ie=UTF-8&amp;q=My+Melody&amp;stick=H4sIAAAAAAAAAONgFuLQz9U3SDMtM1fi1k_XNzQyyCqPN7fUknbLTC7JzM9LzHHOSCxKTC5JLSoOzkxJLU-sLAYA4ifdIzYAAAA&amp;ved=0ahUKEwiewpmlyNHaAhVH2SwKHeL4DxsQxA0IhwEwGQ\" title=\"My Melody\">My Melody</a><div class=\"czonVc\" title=\"My Melody\"></div></div></div><div class=\"B27ELd\" style=\"width:72px\"><div class=\"tQOFN\" style=\"height:72px\"><a class=\"FEM55\" href=\"/search?safe=active&amp;sa=X&amp;ie=UTF-8&amp;q=Mickey+Mouse&amp;stick=H4sIAAAAAAAAAONgFuLQz9U3SDMtM1cCs0zNCzK0pN0yk0sy8_MSc5wzEosSk0tSi4qDM1NSyxMriwF72iEaMwAAAA&amp;ved=0ahUKEwiewpmlyNHaAhVH2SwKHeL4DxsQsQ4IiQEwGQ\"><img alt=\"Mickey Mouse\" height=\"72px\" src=\"https://encrypted-tbn1.gstatic.com/images?q=tbn:ANd9GcSaVkcBRPGiicJJydhcTernaQ3SoLFY9PtDQ7Ror0WmvNi3cjw4l30\" title=\"Mickey Mouse\" width=\"72px\"></a></div><div class=\"brYqc\"><a class=\"fl\" href=\"/search?safe=active&amp;sa=X&amp;ie=UTF-8&amp;q=Mickey+Mouse&amp;stick=H4sIAAAAAAAAAONgFuLQz9U3SDMtM1cCs0zNCzK0pN0yk0sy8_MSc5wzEosSk0tSi4qDM1NSyxMriwF72iEaMwAAAA&amp;ved=0ahUKEwiewpmlyNHaAhVH2SwKHeL4DxsQxA0IigEwGQ\" title=\"Mickey Mouse\">Mickey Mouse</a><div class=\"czonVc\" title=\"Mickey Mouse\"></div></div></div><div class=\"ty7XEe B27ELd\" style=\"width:72px\"><div class=\"tQOFN\" style=\"height:72px\"><a class=\"FEM55\" href=\"/search?safe=active&amp;sa=X&amp;ie=UTF-8&amp;q=Minnie+Mouse&amp;stick=H4sIAAAAAAAAAONgFuLQz9U3SDMtM1cCs7JNc5O1pN0yk0sy8_MSc5wzEosSk0tSi4qDM1NSyxMriwFxjsUgMwAAAA&amp;ved=0ahUKEwiewpmlyNHaAhVH2SwKHeL4DxsQsQ4IjAEwGQ\"><img alt=\"Minnie Mouse\" height=\"72px\" src=\"https://encrypted-tbn0.gstatic.com/images?q=tbn:ANd9GcS9SgGJO29pSR3c06LfbcyUsDHd5ByaCMmTsCroEEYyavRzm5vT-l7aKe51KgDXygdUDzQ\" title=\"Minnie Mouse\" width=\"72px\"></a></div><div class=\"brYqc\"><a class=\"fl\" href=\"/search?safe=active&amp;sa=X&amp;ie=UTF-8&amp;q=Minnie+Mouse&amp;stick=H4sIAAAAAAAAAONgFuLQz9U3SDMtM1cCs7JNc5O1pN0yk0sy8_MSc5wzEosSk0tSi4qDM1NSyxMriwFxjsUgMwAAAA&amp;ved=0ahUKEwiewpmlyNHaAhVH2SwKHeL4DxsQxA0IjQEwGQ\" title=\"Minnie Mouse\">Minnie Mouse</a><div class=\"czonVc\" title=\"Minnie Mouse\"></div></div></div><br><div class=\"xKoZHf B27ELd\" style=\"width:72px\"><div class=\"tQOFN\" style=\"height:72px\"><a class=\"FEM55\" href=\"/search?safe=active&amp;sa=X&amp;ie=UTF-8&amp;q=Miffy&amp;stick=H4sIAAAAAAAAAONgFuLQz9U3SDMtM1cCs5IrDLK0pN0yk0sy8_MSc5wzEosSk0tSi4qDM1NSyxMriwEe2jb9MwAAAA&amp;ved=0ahUKEwiewpmlyNHaAhVH2SwKHeL4DxsQsQ4IjwEwGQ\"><img alt=\"Miffy\" height=\"72px\" src=\"https://encrypted-tbn1.gstatic.com/images?q=tbn:ANd9GcRE1Q-odDs1KFi8nMGJXCOXSCWUGIny_MjKqEoPreuo1BR_zMViIpVoJZVkOLYBzGk_bR0\" title=\"Miffy\" width=\"72px\"></a></div><div class=\"brYqc\"><a class=\"fl\" href=\"/search?safe=active&amp;sa=X&amp;ie=UTF-8&amp;q=Miffy&amp;stick=H4sIAAAAAAAAAONgFuLQz9U3SDMtM1cCs5IrDLK0pN0yk0sy8_MSc5wzEosSk0tSi4qDM1NSyxMriwEe2jb9MwAAAA&amp;ved=0ahUKEwiewpmlyNHaAhVH2SwKHeL4DxsQxA0IkAEwGQ\" title=\"Miffy\">Miffy</a><div class=\"czonVc\" title=\"Miffy\"></div></div></div><div class=\"B27ELd\" style=\"width:72px\"><div class=\"tQOFN\" style=\"height:72px\"><a class=\"FEM55\" href=\"/search?safe=active&amp;sa=X&amp;ie=UTF-8&amp;q=Snoopy&amp;stick=H4sIAAAAAAAAAONgFuLQz9U3SDMtM1fiBLEMM9ILUrSk3TKTSzLz8xJznDMSixKTS1KLioMzU1LLEyuLASMLJlM0AAAA&amp;ved=0ahUKEwiewpmlyNHaAhVH2SwKHeL4DxsQsQ4IkgEwGQ\"><img alt=\"Snoopy\" height=\"72px\" src=\"https://encrypted-tbn2.gstatic.com/images?q=tbn:ANd9GcQXHB5ryN8-SLJrg0BSJdzw53opz9uLHW9ewXoMhnO6WOtfemgnlhXgBeF-13H_ybApS0U\" title=\"Snoopy\" width=\"72px\"></a></div><div class=\"brYqc\"><a class=\"fl\" href=\"/search?safe=active&amp;sa=X&amp;ie=UTF-8&amp;q=Snoopy&amp;stick=H4sIAAAAAAAAAONgFuLQz9U3SDMtM1fiBLEMM9ILUrSk3TKTSzLz8xJznDMSixKTS1KLioMzU1LLEyuLASMLJlM0AAAA&amp;ved=0ahUKEwiewpmlyNHaAhVH2SwKHeL4DxsQxA0IkwEwGQ\" title=\"Snoopy\">Snoopy</a><div class=\"czonVc\" title=\"Snoopy\"></div></div></div><div class=\"ty7XEe B27ELd\" style=\"width:72px\"><div class=\"tQOFN\" style=\"height:72px\"><a class=\"FEM55\" href=\"/search?safe=active&amp;sa=X&amp;ie=UTF-8&amp;q=Elsa&amp;stick=H4sIAAAAAAAAAONgFuLQz9U3SDMtM1fiArEqU4qMDFO0pN0yk0sy8_MSc5wzEosSk0tSi4qDM1NSyxMriwHrCqn2NQAAAA&amp;ved=0ahUKEwiewpmlyNHaAhVH2SwKHeL4DxsQsQ4IlQEwGQ\"><img alt=\"Elsa\" height=\"72px\" src=\"https://encrypted-tbn0.gstatic.com/images?q=tbn:ANd9GcS8QPe5bM2fCP2h68HYxI9awbwtKM3bCyPWtssRkH3mQSZ89bFwlCA\" title=\"Elsa\" width=\"72px\"></a></div><div class=\"brYqc\"><a class=\"fl\" href=\"/search?safe=active&amp;sa=X&amp;ie=UTF-8&amp;q=Elsa&amp;stick=H4sIAAAAAAAAAONgFuLQz9U3SDMtM1fiArEqU4qMDFO0pN0yk0sy8_MSc5wzEosSk0tSi4qDM1NSyxMriwHrCqn2NQAAAA&amp;ved=0ahUKEwiewpmlyNHaAhVH2SwKHeL4DxsQxA0IlgEwGQ\" title=\"Elsa\">Elsa</a><div class=\"czonVc\" title=\"Elsa\"></div></div></div><br></div></div></div></ol></td></tr></tbody></table><script type=\"text/javascript\" nonce=\"uI89iOtL74ZhbPXq+h4YSw==\">(function(){var eventid='LW7eWt53x7KzAeLxv9gB';google.kEI = eventid;})();</script><script src=\"/xjs/_/js/k=xjs.hp.en.CK-L2aUOYQw.O/m=sb_he,d/rt=j/d=1/rs=ACT90oFYbOQtiT_Dkb-po2VJxP_8jE1IJQ\" nonce=\"uI89iOtL74ZhbPXq+h4YSw==\"></script><script type=\"text/javascript\" nonce=\"uI89iOtL74ZhbPXq+h4YSw==\">google.ac&&google.ac.c({\"agen\":true,\"cgen\":true,\"client\":\"heirloom-serp\",\"dh\":true,\"dhqt\":true,\"ds\":\"\",\"ffql\":\"en\",\"fl\":true,\"host\":\"google.com.hk\",\"isbh\":28,\"jsonp\":true,\"msgs\":{\"cibl\":\"Clear Search\",\"dym\":\"Did you mean:\",\"lcky\":\"I\\u0026#39;m Feeling Lucky\",\"lml\":\"Learn more\",\"oskt\":\"Input tools\",\"psrc\":\"This search was removed from your \\u003Ca href=\\\"/history\\\"\\u003EWeb History\\u003C/a\\u003E\",\"psrl\":\"Remove\",\"sbit\":\"Search by image\",\"srch\":\"Google Search\"},\"nds\":true,\"ovr\":{},\"pq\":\"hello kitty\",\"refpd\":true,\"rfs\":[\"hello kitty merchandise\",\"hello kitty history\",\"hello kitty youtube\",\"hello kitty story\",\"hello kitty logo\",\"hello kitty and friends\",\"hello kitty pictures\",\"hello kitty characters\"],\"sbpl\":24,\"sbpr\":24,\"scd\":10,\"sce\":5,\"stok\":\"0ni-AErMEm50zqsYe5ZazQ3Be5s\"})</script><script nonce=\"uI89iOtL74ZhbPXq+h4YSw==\">(function(){window.google.cdo={height:0,width:0};(function(){var a=window.innerWidth,b=window.innerHeight;if(!a||!b){var c=window.document,d=\"CSS1Compat\"==c.compatMode?c.documentElement:c.body;a=d.clientWidth;b=d.clientHeight}a&&b&&(a!=google.cdo.width||b!=google.cdo.height)&&google.log(\"\",\"\",\"/client_204?&atyp=i&biw=\"+a+\"&bih=\"+b+\"&ei=\"+google.kEI);}).call(this);})();</script></body></html>\n"
     ]
    }
   ],
   "source": [
    "print(r.text)"
   ]
  },
  {
   "cell_type": "code",
   "execution_count": 8,
   "metadata": {},
   "outputs": [
    {
     "name": "stdout",
     "output_type": "stream",
     "text": [
      "https://encrypted-tbn0.gstatic.com/images?q=tbn:ANd9GcTkdHXloFhAzUsQu7MT5E0vMiAzrRL1e2qIrOWG0UixxFlk6AiThZ9OGM8\n",
      "https://encrypted-tbn0.gstatic.com/images?q=tbn:ANd9GcRF1UU_1NoNEDX36JfYorZGwfND2z65RqaPPdIp7Z3fC7MSR5k3vG7RvA\n",
      "https://encrypted-tbn0.gstatic.com/images?q=tbn:ANd9GcTdJws1iv1IXD7eSU4TFwQ2XzpBLBQRiY9qm0XMJihnZY-BbXmlCM_fvw\n",
      "https://encrypted-tbn0.gstatic.com/images?q=tbn:ANd9GcSV9iJ9Q7MlJc57LHT85cROxnLuDQWT5iI_I5FMT52F4I0-lsPOulU6RA\n",
      "https://encrypted-tbn0.gstatic.com/images?q=tbn:ANd9GcQzZPFeE22DwupbqbKdjbI6uWkoO7a1AWlepY007ddtisZTJeQIe9m48so\n",
      "https://encrypted-tbn0.gstatic.com/images?q=tbn:ANd9GcRPHZHrbPjX0sEgQ3Ks-hMNm42pB9zTr6LDfaol9F7x3v17z10hG8Hyg-4\n",
      "https://img.youtube.com/vi/mtw68bn61qM/default.jpg?h=90&w=120&sigh=__O1OBY87d1YK3Twekm160JIYmIrQ=\n",
      "https://img.youtube.com/vi/30PXEtSX14U/default.jpg?h=90&w=120&sigh=__LgGDTnOz3_DbG7vhUk2RCDrmGbA=\n",
      "https://encrypted-tbn0.gstatic.com/images?q=tbn:ANd9GcSOyA-ioudkRPHkJ3jxzIH7NI_kBGsLm-MNzvG9mYTvpOTLS317ktTsPw\n",
      "https://encrypted-tbn1.gstatic.com/images?q=tbn:ANd9GcTwOxIq7COFCX26UCiu1U8-ttnkcOayh9CQA9b1cqf_YQNOL0vfi8Y\n",
      "https://encrypted-tbn1.gstatic.com/images?q=tbn:ANd9GcSaVkcBRPGiicJJydhcTernaQ3SoLFY9PtDQ7Ror0WmvNi3cjw4l30\n",
      "https://encrypted-tbn0.gstatic.com/images?q=tbn:ANd9GcS9SgGJO29pSR3c06LfbcyUsDHd5ByaCMmTsCroEEYyavRzm5vT-l7aKe51KgDXygdUDzQ\n",
      "https://encrypted-tbn1.gstatic.com/images?q=tbn:ANd9GcRE1Q-odDs1KFi8nMGJXCOXSCWUGIny_MjKqEoPreuo1BR_zMViIpVoJZVkOLYBzGk_bR0\n",
      "https://encrypted-tbn2.gstatic.com/images?q=tbn:ANd9GcQXHB5ryN8-SLJrg0BSJdzw53opz9uLHW9ewXoMhnO6WOtfemgnlhXgBeF-13H_ybApS0U\n",
      "https://encrypted-tbn0.gstatic.com/images?q=tbn:ANd9GcS8QPe5bM2fCP2h68HYxI9awbwtKM3bCyPWtssRkH3mQSZ89bFwlCA\n"
     ]
    }
   ],
   "source": [
    "soup = BeautifulSoup(r.text,'html.parser')\n",
    "for img in soup.findAll('img'):\n",
    "    print(img['src'])\n"
   ]
  },
  {
   "cell_type": "markdown",
   "metadata": {},
   "source": [
    "# Requests&Get\n",
    "\n",
    "## requests then download and save to ./images"
   ]
  },
  {
   "cell_type": "code",
   "execution_count": 10,
   "metadata": {
    "collapsed": true
   },
   "outputs": [],
   "source": [
    "from bs4 import BeautifulSoup\n",
    "import requests\n",
    "import re\n",
    "import os\n",
    "import argparse\n",
    "import sys\n",
    "import json\n",
    "from PIL import Image\n",
    "from io import BytesIO\n"
   ]
  },
  {
   "cell_type": "code",
   "execution_count": 11,
   "metadata": {
    "scrolled": false
   },
   "outputs": [
    {
     "name": "stdout",
     "output_type": "stream",
     "text": [
      "https://sanrio-production-weblinc.netdna-ssl.com/media/W1siZiIsIjIwMTYvMDYvMTQvMjAvNDgvMzQvMTM3L2NocmFjdGVyX2hlbGxvX2tpdHR5LmpwZyJdXQ/chracter-hello-kitty.jpg?sha=f5e7c272d3fc6e78\n",
      "https://upload.wikimedia.org/wikipedia/en/thumb/0/05/Hello_kitty_character_portrait.png/200px-Hello_kitty_character_portrait.png\n",
      "https://i.guim.co.uk/img/static/sys-images/Guardian/Pix/pictures/2014/8/28/1409228903473/de6aa8da-3f82-4069-9807-0e83513dad05-1024x768.jpeg?w=300&q=55&auto=format&usm=12&fit=max&s=f74cf7108fab04cf08066db9225d52c2\n",
      "https://vignette.wikia.nocookie.net/epic-rap-battles-of-cartoons/images/1/10/Hello-kitty.png/revision/latest?cb=20170807065310\n",
      "https://pbs.twimg.com/profile_images/553014757037322240/VhIzHhkV_400x400.png\n",
      "https://seeklogo.com/images/H/hello-kitty-logo-354D6628E7-seeklogo.com.png\n",
      "https://www.sanrio.com/media/W1siZiIsIjIwMTYvMDYvMTMvMTQvMTEvNDAvMTQvY2hhcmFjdGVyX2Jhbm5lcl9oZWxsb2tpdHR5LnBuZyJdXQ/character_banner_hellokitty.png?sha=95006e8644727395\n",
      "https://sophosnews.files.wordpress.com/2015/12/hellokitty.jpg?w=780&h=408&crop=1\n",
      "https://i.pinimg.com/originals/57/96/fd/5796fda0b26f2f70df0f6c63878e1f4d.jpg\n",
      "http://www.cartoon-clipart.co/amp/images/hello-kitty-angel.png\n",
      "http://www.writingfordesigners.com/wp-content/uploads/2016/10/Hello_Kitty_logo.svg_.png\n",
      "http://bdfjade.com/data/out/1/5108168-hello-kitty-images.jpg\n",
      "https://i.ytimg.com/vi/30PXEtSX14U/maxresdefault.jpg\n",
      "http://media-assets-05.thedrum.com/cache/images/thedrum-prod/s3-news-tmp-90538-hello_kitty_1--default--1200.png\n",
      "http://www.supercoloring.com/sites/default/files/styles/coloring_full/public/cif/2016/08/hello-kitty-princess-coloring-page.png\n",
      "https://vignette.wikia.nocookie.net/hellokitty/images/a/ad/Sanrio_Characters_Hello_Kitty_Image056.png/revision/latest?cb=20170619010714\n",
      "https://i.pinimg.com/originals/92/18/85/921885925bf07d85d723ee267b2b2498.jpg\n",
      "https://i.pinimg.com/originals/9f/85/06/9f85069c807654e04b1b3b5ce6463e57.png\n",
      "http://www.stickpng.com/assets/images/584854e3b772315a9e4dd5d0.png\n",
      "https://vignette.wikia.nocookie.net/looney-tunes-show-cartoon/images/b/be/Hello-Kitty-Sitting-hello-kitty-25604546-1210-1429.jpg/revision/latest?cb=20130415030336\n",
      "https://i.ytimg.com/vi/Ywgpv1pYvb4/maxresdefault.jpg\n",
      "https://media.kasperskydaily.com/wp-content/uploads/sites/86/2015/12/05194503/hello-kitty-hacked-FB.jpg\n",
      "https://sanrio-production-weblinc.netdna-ssl.com/assets/weblinc/store_front/email_signup_characters-3f04a08ceed4a51a8b86a88501ea76b5733372122f0523762cae57cc6c8bd737.png\n",
      "http://www.presspassla.com/wp-content/uploads/2015/07/hello-kitty.jpg\n",
      "https://img.buzzfeed.com/buzzfeed-static/static/enhanced/webdr02/2013/4/9/14/enhanced-buzz-orig-25375-1365533151-28.jpg?downsize=715:*&output-format=auto&output-quality=auto\n",
      "https://sophosnews.files.wordpress.com/2017/01/shutterstock_208511908.jpg?w=768&h=408&crop=1\n",
      "http://www.voletic.com/wp-content/uploads/2015/07/HK_Web-Banner-01.jpg\n",
      "https://www.picgifs.com/graphics/h/hello-kitty/graphics-hello-kitty-328875.gif\n",
      "https://www.hellomagazine.com/imagenes/cuisine/2017081641638/hello-kitty-themed-pop-up-launching-london/0-215-546/Hello-Kitty-cafe-t.jpg\n",
      "https://sanrio-production-weblinc.netdna-ssl.com/media/W1siZiIsIjIwMTYvMDYvMTQvMjAvNDgvMzMvNTQ0L2NoYXJhY3Rlcl9rZXJvcHBpLmpwZyJdXQ/character-keroppi.jpg?sha=f85071202eed01c5\n",
      "https://i.pinimg.com/736x/b5/35/2e/b5352e780c77f961537ab4a2cba8502f--sanrio-wallpaper-hello-kitty-wallpaper-android.jpg\n",
      "http://alexandrarabbitte.com/wp-content/uploads/2018/04/HelloKitty.png\n",
      "https://i2.wp.com/news.harvard.edu/wp-content/uploads/2014/10/hello-kitty-wallpaper-37_605.jpg?resize=605%2C403&ssl=1\n",
      "https://upload.wikimedia.org/wikipedia/commons/thumb/f/f6/Hello_Kitty_cafe_Hongdae.JPG/220px-Hello_Kitty_cafe_Hongdae.JPG\n",
      "http://vtown.vn/uploads/article/490/hello%20kitty.jpg\n",
      "http://www.supercoloring.com/sites/default/files/styles/coloring_full/public/cif/2016/08/hello-kitty-coloring-page.png\n",
      "http://www.sanrio.eu/wp-content/uploads/2018/04/Hello_KT_Barbie_1-01.jpg\n",
      "https://i.pinimg.com/originals/24/a9/4b/24a94beef724d3f944939d0d0bf3b93b.jpg\n",
      "https://www.thejapaneseshop.co.uk/blog/wp-content/uploads/2017/06/198663-hello_kitty.gif\n",
      "https://www.kidcasters.com/wp-content/uploads/2016/03/HelloKitty-logo.jpg\n",
      "http://kawaiisekai.com/wp-content/uploads/2017/11/hello-kitty-love.gif\n",
      "https://pbs.twimg.com/media/DYfvrsEU0AAl-NH.jpg\n",
      "https://i.pinimg.com/originals/43/7b/f4/437bf4a3bd591c2dd9780eda3286a49e.jpg\n",
      "https://cdn.parfumdreams.de/Img/Cat/10/Hello-Kitty-3508.jpg\n",
      "https://i.ytimg.com/vi/qDECCsoBEok/maxresdefault.jpg\n",
      "https://iprice-production-assets.s3-ap-southeast-1.amazonaws.com/trends-article/five-hello-kitty-collectibles-that-could-be-worth-more-than-your-house.jpg\n",
      "http://www.purse-hanger.com/wp-content/uploads/2018/01/hello-kitty-free-movies-22-best-hello-kitty-images-on-pinterest-sanrio-hello-kitty-color-in-pictures.jpg\n",
      "https://vignette.wikia.nocookie.net/hellokitty/images/b/bb/Sanrio_Characters_Charmmy_Kitty_Image008.png/revision/latest?cb=20170402172228\n",
      "http://bdfjade.com/data/out/26/5349338-wallpaper-hello-kitty.jpg\n",
      "https://upload.wikimedia.org/wikipedia/commons/a/a0/Hello_Kitty_coffee.jpg\n",
      "https://i.pinimg.com/736x/8f/89/f6/8f89f66b719f9bf42ee112df72ac6681--hello-kitty-wallpaper-phone-wallpapers.jpg\n",
      "https://partycity2.scene7.com/is/image/PartyCity/_ml_p2p_pc_badge_normal1?$_ml_p2p_pc_thumb_nonav_normal1$&$product=PartyCity/598575_full\n",
      "http://mastertheevent.com/images/2013/11/Hello-Kitty-hello-kitty-19285460-849-757.gif\n",
      "https://png.clipart.me/previews/c22/hello-kitty-with-teddy-bear-30673.gif\n",
      "https://i.ytimg.com/vi/mtw68bn61qM/maxresdefault.jpg\n",
      "http://cdn2.momjunction.com/wp-content/uploads/2014/06/Hello-Kitty-with-hart.jpg\n",
      "https://media.tenor.com/images/ca65fcd46e72e7a2ff5281df4140e2ae/tenor.gif\n",
      "http://cdn-img.instyle.com/sites/default/files/styles/622x350/public/images/2017/09/091417-hello-kitty-candy-launch-lead.jpg?itok=YE4V6ERC\n",
      "https://seeklogo.com/images/H/Hello_Kitty_con_globitos-logo-183D9EACDC-seeklogo.com.png\n",
      "https://img00.deviantart.net/a270/i/2015/213/6/2/hello_kitty_wallpaper_by_yukari99-d93qvax.jpg\n",
      "http://www.mini-fondos.com/previews/amor/hello_kitty_05\n",
      "http://www.stickpng.com/assets/images/584854f3b772315a9e4dd5d2.png\n",
      "https://img00.deviantart.net/d6c7/i/2009/083/4/f/hello_kitty_icon_by_thegreymatter5050.png\n",
      "https://www.purse-hanger.com/wp-content/uploads/2018/01/free-hello-kitty-movies-best-25-hello-kitty-wallpaper-hd-ideas-on-pinterest-kitty-disney-characters-to-color.jpg\n",
      "http://images2.fanpop.com/image/photos/8500000/Hello-kitty-glitter-hello-kitty-8586105-177-232.gif\n",
      "http://www.dizzypink.co.uk/shop/A551-318540-Hello-Kitty-Plush-Gift-Kitty.jpg\n",
      "http://ichef.bbci.co.uk/news/999/mcs/media/images/77208000/jpg/_77208796_getty_hellokitty.jpg\n",
      "http://www.hellokittycafe.co.kr/en/images/main/main_clogo.png\n",
      "http://www.queen-of-theme-party-games.com/images/hello-kitty-party-invitation-personalized-printable.jpg\n",
      "https://www.picgifs.com/graphics/h/hello-kitty/graphics-hello-kitty-237972.gif\n",
      "http://4.bp.blogspot.com/-S4OtVKoCX_g/UpUEwAMGDSI/AAAAAAABTtc/-H00vlWxOTM/s1600/Hello+Kitty+69.png\n",
      "http://media.janm.org/exhibitions/hellokitty/JANM-HelloKitty-icon-bow.png\n",
      "https://images4.alphacoders.com/702/70264.png\n",
      "http://images5.fanpop.com/image/photos/28900000/Hello-Kitty-hello-kitty-28916505-419-378.gif\n",
      "http://www.otltechnologies.com/labmonkey-com/_img/brands/HELLOKITTY.jpg\n",
      "http://hellokittygamesfree.com/wp-content/uploads/2015/03/Hello-Kitty-Perfect-Teeth.png\n",
      "http://www.dizzypink.co.uk/shop/carousel_hello_kitty_cards.png\n",
      "https://cdn.modernfarmer.com/wp-content/uploads/2014/12/kitty_hero.jpg\n",
      "https://i.pinimg.com/originals/77/03/ef/7703efb4f31305f79be9b4737a338172.jpg\n",
      "https://images.fastcompany.net/image/upload/w_1280,f_auto,q_auto,fl_lossy/fc/3034954-poster-p-1-who-is-hellokitty-really.jpg\n",
      "https://www.swarovski.com/is-bin/intershop.static/WFS/SCO-Media-Site/-/-/publicimages/CG/B2C/PROD/600/Swarovski-Hello-Kitty-Red-Bow-5135946-W600.jpg\n",
      "http://www.coloring-book.info/coloring/Hello%20Kitty/hello-kitty-53.jpg\n",
      "http://www.hypnopixel.com/graphics/images/HelloKitty2.jpg\n",
      "https://imgs.tuts.dragoart.com/how-to-draw-hello-kitty_1_000000000328_5.jpg\n",
      "http://watchesbysjx.com/wp-content/uploads/2017/10/Romain-Jerome-Hello-Kitty-2.jpg\n",
      "https://i.pinimg.com/736x/17/8a/ab/178aabf749945d6f5a5eecd3281bc907--sanrio-wallpaper-kitty-wallpaper.jpg\n",
      "http://images.clipartpanda.com/hello-kitty-clip-art-feb274.gif\n",
      "http://unisci24.com/data_images/wlls/23/249422-hello-kitty.jpg\n",
      "https://islandsidechronicles.files.wordpress.com/2012/11/hello-kitty-wallpaper1.jpg\n",
      "https://sanrio-production-weblinc.netdna-ssl.com/media/W1siZiIsIjIwMTYvMTIvMjkvMTQvNDcvNDYvNTgyL0hfQ19oZWxsb19zYW5yaW8uanBnIl0sWyJwIiwib3B0aW0iXV0/H-C-hello-sanrio.jpg?sha=68d618f8e3bac13f\n",
      "http://bdfjade.com/data/out/57/5636154-hello-kitty-wallpapers.png\n",
      "http://www.dizzypink.co.uk/shop/A551-318558-Hello-Kitty-Plush-Candle-Kitty.jpg\n",
      "https://storify.com/services/proxy/2/zvejgIPhPpJRAnxqsl6Mlg/http/bassia.files.wordpress.com/2010/10/charmykitty.jpg\n",
      "https://pre00.deviantart.net/d9a4/th/pre/i/2012/010/5/4/hello_kitty_cupcake___sarry_eyed_style_by_sayurixsama-d4lxk2f.png\n",
      "https://img10.androidappsapk.co/300/8/c/b/com.swyftmedia.android.HelloKitty.png\n",
      "https://i.kinja-img.com/gawker-media/image/upload/s--nLxrRQoa--/c_scale,fl_progressive,q_80,w_800/rlq3pqmkfrrtobw38m2y.jpg\n",
      "https://upload.wikimedia.org/wikipedia/en/e/e2/The_Adventures_of_Hello_Kitty_and_Friends.png\n",
      "http://images.gawker.com/ycttgwuwydg4nyjbxkud/c_scale,fl_progressive,q_80,w_800.png\n",
      "http://newnation.sg/wp-content/uploads/dear-daniel.jpg\n",
      "https://hellokitty.swvino.com/wp-content/uploads/2017/07/official.png\n"
     ]
    }
   ],
   "source": [
    "query='hello+kitty'\n",
    "url=\"https://www.google.com.hk/search?q=\"+query+\"&source=lnms&tbm=isch\"\n",
    "header={'User-Agent':\"Mozilla/5.0 (Windows NT 6.1; WOW64) AppleWebKit/537.36 (KHTML, like Gecko) Chrome/43.0.2357.134 Safari/537.36\"}\n",
    "\n",
    "r = requests.get(url,headers=header, proxies=proxies)\n",
    "\n",
    "\n",
    "soup = BeautifulSoup(r.text,'html.parser')\n",
    "ActualImages=[]# contains the link for Large original images, type of  image\n",
    "for a in soup.find_all(\"div\",{\"class\":\"rg_meta\"}):\n",
    "    link , Type =json.loads(a.text)[\"ou\"]  ,json.loads(a.text)[\"ity\"]\n",
    "    ActualImages.append((link,Type))\n",
    "    print(link)"
   ]
  },
  {
   "cell_type": "code",
   "execution_count": 12,
   "metadata": {},
   "outputs": [
    {
     "name": "stdout",
     "output_type": "stream",
     "text": [
      "saved 0\n",
      "saved 1\n",
      "saved 2\n",
      "saved 3\n",
      "saved 4\n",
      "saved 5\n",
      "saved 6\n",
      "saved 7\n",
      "saved 8\n",
      "saved 9\n",
      "saved 10\n",
      "could not load : http://bdfjade.com/data/out/1/5108168-hello-kitty-images.jpg\n",
      "cannot identify image file <_io.BytesIO object at 0x000001CD70536360>\n",
      "saved 12\n",
      "saved 13\n",
      "saved 14\n",
      "saved 15\n",
      "saved 16\n",
      "saved 17\n"
     ]
    },
    {
     "name": "stderr",
     "output_type": "stream",
     "text": [
      "C:\\Users\\forqzy\\AppData\\Local\\conda\\conda\\envs\\tensorflow\\lib\\site-packages\\PIL\\Image.py:888: UserWarning: Palette images with Transparency   expressed in bytes should be converted to RGBA images\n",
      "  'to RGBA images')\n"
     ]
    },
    {
     "name": "stdout",
     "output_type": "stream",
     "text": [
      "saved 18\n",
      "saved 19\n",
      "saved 20\n",
      "saved 21\n",
      "saved 22\n",
      "saved 23\n",
      "saved 24\n",
      "saved 25\n",
      "saved 26\n",
      "saved 27\n",
      "saved 28\n",
      "saved 29\n",
      "saved 30\n",
      "saved 31\n",
      "saved 32\n",
      "saved 33\n",
      "saved 34\n",
      "saved 35\n",
      "saved 36\n",
      "saved 37\n",
      "saved 38\n",
      "saved 39\n",
      "saved 40\n",
      "saved 41\n",
      "saved 42\n",
      "saved 43\n",
      "saved 44\n",
      "saved 45\n",
      "saved 46\n",
      "saved 47\n",
      "could not load : http://bdfjade.com/data/out/26/5349338-wallpaper-hello-kitty.jpg\n",
      "cannot identify image file <_io.BytesIO object at 0x000001CD70536410>\n",
      "saved 49\n",
      "saved 50\n",
      "saved 51\n",
      "saved 52\n",
      "saved 53\n",
      "saved 54\n",
      "saved 55\n",
      "saved 56\n",
      "saved 57\n",
      "saved 58\n",
      "saved 59\n",
      "saved 60\n",
      "saved 61\n",
      "saved 62\n",
      "saved 63\n",
      "saved 64\n",
      "saved 65\n",
      "saved 66\n",
      "saved 67\n",
      "saved 68\n",
      "saved 69\n",
      "could not load : http://4.bp.blogspot.com/-S4OtVKoCX_g/UpUEwAMGDSI/AAAAAAABTtc/-H00vlWxOTM/s1600/Hello+Kitty+69.png\n",
      "HTTPConnectionPool(host='4.bp.blogspot.com', port=80): Max retries exceeded with url: /-S4OtVKoCX_g/UpUEwAMGDSI/AAAAAAABTtc/-H00vlWxOTM/s1600/Hello+Kitty+69.png (Caused by NewConnectionError('<requests.packages.urllib3.connection.HTTPConnection object at 0x000001CD705EFE10>: Failed to establish a new connection: [WinError 10060] 由于连接方在一段时间后没有正确答复或连接的主机没有反应，连接尝试失败。',))\n",
      "saved 71\n",
      "saved 72\n",
      "saved 73\n",
      "saved 74\n",
      "saved 75\n",
      "saved 76\n",
      "saved 77\n",
      "saved 78\n",
      "saved 79\n",
      "saved 80\n",
      "saved 81\n",
      "saved 82\n",
      "could not load : https://imgs.tuts.dragoart.com/how-to-draw-hello-kitty_1_000000000328_5.jpg\n",
      "EOF occurred in violation of protocol (_ssl.c:719)\n",
      "saved 84\n",
      "saved 85\n",
      "saved 86\n",
      "could not load : http://unisci24.com/data_images/wlls/23/249422-hello-kitty.jpg\n",
      "cannot identify image file <_io.BytesIO object at 0x000001CD705DE8E0>\n",
      "saved 88\n",
      "saved 89\n",
      "saved 90\n",
      "saved 91\n",
      "saved 92\n",
      "saved 93\n",
      "saved 94\n",
      "saved 95\n",
      "saved 96\n",
      "saved 97\n",
      "saved 98\n",
      "saved 99\n"
     ]
    }
   ],
   "source": [
    "for i , (img , Type) in enumerate(ActualImages[0:100000]):\n",
    "    try:\n",
    "        req = requests.get(img, headers=header, proxies=proxies)\n",
    "        im = Image.open(BytesIO(req.content))\n",
    "        rgb_im = im.convert('RGB')\n",
    "        \n",
    "        rgb_im.save(os.path.join(\"./images/\" , \"img\" + \"_\"+ str(i)+\".jpg\"))\n",
    "        print(\"saved\",i)\n",
    "    except Exception as e:\n",
    "        print (\"could not load : \"+img)\n",
    "        print(e)"
   ]
  },
  {
   "cell_type": "markdown",
   "metadata": {},
   "source": [
    "# Homework\n",
    "  Resize the image to 160*120 using PIL.Image\n",
    "  \n",
    "  Hint' Copy the above code and add a line of code to resize the image then save to reduce the time needed. \n",
    "    \n",
    "    \n",
    "    "
   ]
  },
  {
   "cell_type": "code",
   "execution_count": null,
   "metadata": {
    "collapsed": true
   },
   "outputs": [],
   "source": [
    "\n",
    "\n"
   ]
  }
 ],
 "metadata": {
  "kernelspec": {
   "display_name": "Python 3",
   "language": "python",
   "name": "python3"
  },
  "language_info": {
   "codemirror_mode": {
    "name": "ipython",
    "version": 3
   },
   "file_extension": ".py",
   "mimetype": "text/x-python",
   "name": "python",
   "nbconvert_exporter": "python",
   "pygments_lexer": "ipython3",
   "version": "3.5.4"
  }
 },
 "nbformat": 4,
 "nbformat_minor": 2
}
