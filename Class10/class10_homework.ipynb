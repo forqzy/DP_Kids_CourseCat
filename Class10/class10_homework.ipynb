{
 "cells": [
  {
   "cell_type": "code",
   "execution_count": null,
   "metadata": {},
   "outputs": [],
   "source": [
    "import requests\n",
    "from bs4 import BeautifulSoup\n",
    "from os.path import basename, splitext\n"
   ]
  },
  {
   "cell_type": "code",
   "execution_count": null,
   "metadata": {},
   "outputs": [],
   "source": [
    "proxies = {\n",
    "  \"https\": \"http://127.0.0.1:1080\",\n",
    "}\n",
    "\n",
    "#Note please remove the proxy, as you can connect Google directly\n",
    "r = requests.get('https://www.google.com.hk/search?safe=on&q=hello+kitty&spell=3&sa=X', proxies=proxies)"
   ]
  },
  {
   "cell_type": "code",
   "execution_count": null,
   "metadata": {},
   "outputs": [],
   "source": [
    "print(r.text)"
   ]
  },
  {
   "cell_type": "code",
   "execution_count": null,
   "metadata": {},
   "outputs": [],
   "source": [
    "soup = BeautifulSoup(r.text,'html.parser')\n",
    "for img in soup.findAll('img'):\n",
    "    print(img['src'])\n"
   ]
  },
  {
   "cell_type": "markdown",
   "metadata": {},
   "source": [
    "# Requests&Get\n",
    "\n",
    "## requests then download and save to ./images"
   ]
  },
  {
   "cell_type": "code",
   "execution_count": null,
   "metadata": {},
   "outputs": [],
   "source": [
    "from bs4 import BeautifulSoup\n",
    "import requests\n",
    "import re\n",
    "import os\n",
    "import argparse\n",
    "import sys\n",
    "import json\n",
    "from PIL import Image\n",
    "from io import BytesIO\n"
   ]
  },
  {
   "cell_type": "code",
   "execution_count": null,
   "metadata": {},
   "outputs": [],
   "source": [
    "query='hello+kitty'\n",
    "url=\"https://www.google.com.hk/search?q=\"+query+\"&source=lnms&tbm=isch\"\n",
    "header={'User-Agent':\"Mozilla/5.0 (Windows NT 6.1; WOW64) AppleWebKit/537.36 (KHTML, like Gecko) Chrome/43.0.2357.134 Safari/537.36\"}\n",
    "\n",
    "r = requests.get(url,headers=header, proxies=proxies)\n",
    "\n",
    "\n",
    "soup = BeautifulSoup(r.text,'html.parser')\n",
    "ActualImages=[]# contains the link for Large original images, type of  image\n",
    "for a in soup.find_all(\"div\",{\"class\":\"rg_meta\"}):\n",
    "    link , Type =json.loads(a.text)[\"ou\"]  ,json.loads(a.text)[\"ity\"]\n",
    "    ActualImages.append((link,Type))\n",
    "    print(link)"
   ]
  },
  {
   "cell_type": "code",
   "execution_count": null,
   "metadata": {},
   "outputs": [],
   "source": [
    "for i , (img , Type) in enumerate(ActualImages[0:100000]):\n",
    "    try:\n",
    "        req = requests.get(img, headers=header, proxies=proxies)\n",
    "        im = Image.open(BytesIO(req.content))\n",
    "        rgb_im = im.convert('RGB')\n",
    "        \n",
    "        rgb_im.save(os.path.join(\"./images/\" , \"img\" + \"_\"+ str(i)+\".jpg\"))\n",
    "    except Exception as e:\n",
    "        print (\"could not load : \"+img)\n",
    "        print(e)"
   ]
  },
  {
   "cell_type": "markdown",
   "metadata": {},
   "source": [
    "# Homework\n",
    "  Resize the image to 160*120 using PIL.Image\n",
    "  \n",
    "  Hint' Copy the above code and add a line of code to resize the image then save to reduce the time needed. \n",
    "    \n",
    "    \n",
    "    "
   ]
  },
  {
   "cell_type": "code",
   "execution_count": null,
   "metadata": {
    "collapsed": true
   },
   "outputs": [],
   "source": [
    "\n",
    "\n"
   ]
  }
 ],
 "metadata": {
  "kernelspec": {
   "display_name": "Python 3",
   "language": "python",
   "name": "python3"
  },
  "language_info": {
   "codemirror_mode": {
    "name": "ipython",
    "version": 3
   },
   "file_extension": ".py",
   "mimetype": "text/x-python",
   "name": "python",
   "nbconvert_exporter": "python",
   "pygments_lexer": "ipython3",
   "version": "3.5.4"
  }
 },
 "nbformat": 4,
 "nbformat_minor": 2
}
